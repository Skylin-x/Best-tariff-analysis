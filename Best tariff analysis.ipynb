{
 "cells": [
  {
   "cell_type": "markdown",
   "id": "74f9a165",
   "metadata": {},
   "source": [
    "# Описание проекта.\n",
    "\n",
    "Компания — федеральный оператор сотовой связи предлагает клиентам два тарифных плана: «Смарт» и «Ультра».\n",
    "Чтобы скорректировать рекламный бюджет, коммерческий департамент хочет понять, какой тариф приносит больше денег.\n",
    "Необходимо провести предварительный анализ тарифов на выборке из 500 пользователей.\n",
    "\n",
    "Данные по клиентам: \n",
    "* кто они, \n",
    "* откуда,\n",
    "* каким тарифом пользуются, \n",
    "* сколько звонков и сообщений каждый отправил за 2018 год."
   ]
  },
  {
   "cell_type": "markdown",
   "id": "f582010f",
   "metadata": {},
   "source": [
    "## Цель проекта:\n",
    "\n",
    "Проанализировать поведение клиентов и __сделать вывод — какой тариф лучше__.\n",
    "\n",
    "Описание тарифов:\n",
    "\n",
    "*__Тариф «Смарт»__*\n",
    "* Ежемесячная плата: 550 рублей\n",
    "* Включено 500 минут разговора,\n",
    "* 50 сообщений и \n",
    "* 15 Гб интернет-трафика\n",
    "\n",
    "Стоимость услуг сверх тарифного пакета:\n",
    "* минута разговора: 3 рубля\n",
    "* сообщение: 3 рубля\n",
    "* 1 Гб интернет-трафика: 200 рублей\n",
    "\n",
    "*__Тариф «Ультра»__*\n",
    "* Ежемесячная плата: 1950 рублей\n",
    "* Включено 3000 минут разговора, \n",
    "* 1000 сообщений и \n",
    "* 30 Гб интернет-трафика\n",
    "\n",
    "Стоимость услуг сверх тарифного пакета:\n",
    "* минута разговора: 1 рубль\n",
    "* сообщение: 1 рубль\n",
    "* 1 Гб интернет-трафика: 150 рублей"
   ]
  },
  {
   "cell_type": "markdown",
   "id": "31b202aa",
   "metadata": {},
   "source": [
    "# Содержание:\n",
    "\n",
    "## 1. [Открытие файлов с данными и изучение общей информации](#1)\n",
    "## 2. [Приведение типов данных и проверка на дубликаты](#2)\n",
    "## 3. [Количество сделанных звонков и израсходованных минут разговора по месяцам](#3)\n",
    "## 4. [Количество отправленных сообщений по месяцам](#4)\n",
    "## 5. [Объем израсходованного интернет-трафика по месяцам](#5)\n",
    "## 6. [Расчет помесячной выручки с каждого пользователя по месяцам](#6)\n",
    "## 7. [Анализ полученных данных](#7)\n",
    "## 8. [Проверка гипотез](#8)\n",
    "## 9. [Выводы](#9)"
   ]
  },
  {
   "cell_type": "markdown",
   "id": "02e64313",
   "metadata": {},
   "source": [
    "<a id='1'></a>\n",
    "# 1. Открытие файлов с данными и изучение общей информации"
   ]
  },
  {
   "cell_type": "code",
   "execution_count": 1,
   "id": "03e6aa1f",
   "metadata": {},
   "outputs": [],
   "source": [
    "import pandas as pd\n",
    "import numpy as np\n",
    "from datetime import datetime as dt\n",
    "from scipy import stats as st\n",
    "import os\n",
    "import matplotlib.pyplot as plt"
   ]
  },
  {
   "cell_type": "code",
   "execution_count": 2,
   "id": "20a1549d",
   "metadata": {},
   "outputs": [],
   "source": [
    "# загрузка датасетов\n",
    "try:\n",
    "    calls = pd.read_csv('/datasets/calls.csv')\n",
    "    internet = pd.read_csv('/datasets/internet.csv')\n",
    "    messages = pd.read_csv('/datasets/messages.csv')\n",
    "    tariffs = pd.read_csv('/datasets/tariffs.csv')\n",
    "    users = pd.read_csv('/datasets/users.csv')\n",
    "except:\n",
    "    calls = pd.read_csv('calls.csv')\n",
    "    internet = pd.read_csv('internet.csv')\n",
    "    messages = pd.read_csv('messages.csv')\n",
    "    tariffs = pd.read_csv('tariffs.csv')\n",
    "    users = pd.read_csv('users.csv')"
   ]
  },
  {
   "cell_type": "code",
   "execution_count": 3,
   "id": "8445531b",
   "metadata": {},
   "outputs": [
    {
     "name": "stdout",
     "output_type": "stream",
     "text": [
      "описание датасета calls:\n",
      "__________________________\n"
     ]
    },
    {
     "data": {
      "text/html": [
       "<div>\n",
       "<style scoped>\n",
       "    .dataframe tbody tr th:only-of-type {\n",
       "        vertical-align: middle;\n",
       "    }\n",
       "\n",
       "    .dataframe tbody tr th {\n",
       "        vertical-align: top;\n",
       "    }\n",
       "\n",
       "    .dataframe thead th {\n",
       "        text-align: right;\n",
       "    }\n",
       "</style>\n",
       "<table border=\"1\" class=\"dataframe\">\n",
       "  <thead>\n",
       "    <tr style=\"text-align: right;\">\n",
       "      <th></th>\n",
       "      <th>id</th>\n",
       "      <th>call_date</th>\n",
       "      <th>duration</th>\n",
       "      <th>user_id</th>\n",
       "    </tr>\n",
       "  </thead>\n",
       "  <tbody>\n",
       "    <tr>\n",
       "      <th>0</th>\n",
       "      <td>1000_0</td>\n",
       "      <td>2018-07-25</td>\n",
       "      <td>0.00</td>\n",
       "      <td>1000</td>\n",
       "    </tr>\n",
       "    <tr>\n",
       "      <th>1</th>\n",
       "      <td>1000_1</td>\n",
       "      <td>2018-08-17</td>\n",
       "      <td>0.00</td>\n",
       "      <td>1000</td>\n",
       "    </tr>\n",
       "    <tr>\n",
       "      <th>2</th>\n",
       "      <td>1000_2</td>\n",
       "      <td>2018-06-11</td>\n",
       "      <td>2.85</td>\n",
       "      <td>1000</td>\n",
       "    </tr>\n",
       "    <tr>\n",
       "      <th>3</th>\n",
       "      <td>1000_3</td>\n",
       "      <td>2018-09-21</td>\n",
       "      <td>13.80</td>\n",
       "      <td>1000</td>\n",
       "    </tr>\n",
       "    <tr>\n",
       "      <th>4</th>\n",
       "      <td>1000_4</td>\n",
       "      <td>2018-12-15</td>\n",
       "      <td>5.18</td>\n",
       "      <td>1000</td>\n",
       "    </tr>\n",
       "  </tbody>\n",
       "</table>\n",
       "</div>"
      ],
      "text/plain": [
       "       id   call_date  duration  user_id\n",
       "0  1000_0  2018-07-25      0.00     1000\n",
       "1  1000_1  2018-08-17      0.00     1000\n",
       "2  1000_2  2018-06-11      2.85     1000\n",
       "3  1000_3  2018-09-21     13.80     1000\n",
       "4  1000_4  2018-12-15      5.18     1000"
      ]
     },
     "metadata": {},
     "output_type": "display_data"
    },
    {
     "name": "stdout",
     "output_type": "stream",
     "text": [
      "<class 'pandas.core.frame.DataFrame'>\n",
      "RangeIndex: 202607 entries, 0 to 202606\n",
      "Data columns (total 4 columns):\n",
      " #   Column     Non-Null Count   Dtype  \n",
      "---  ------     --------------   -----  \n",
      " 0   id         202607 non-null  object \n",
      " 1   call_date  202607 non-null  object \n",
      " 2   duration   202607 non-null  float64\n",
      " 3   user_id    202607 non-null  int64  \n",
      "dtypes: float64(1), int64(1), object(2)\n",
      "memory usage: 6.2+ MB\n"
     ]
    },
    {
     "data": {
      "text/plain": [
       "None"
      ]
     },
     "metadata": {},
     "output_type": "display_data"
    },
    {
     "data": {
      "text/html": [
       "<div>\n",
       "<style scoped>\n",
       "    .dataframe tbody tr th:only-of-type {\n",
       "        vertical-align: middle;\n",
       "    }\n",
       "\n",
       "    .dataframe tbody tr th {\n",
       "        vertical-align: top;\n",
       "    }\n",
       "\n",
       "    .dataframe thead th {\n",
       "        text-align: right;\n",
       "    }\n",
       "</style>\n",
       "<table border=\"1\" class=\"dataframe\">\n",
       "  <thead>\n",
       "    <tr style=\"text-align: right;\">\n",
       "      <th></th>\n",
       "      <th>duration</th>\n",
       "      <th>user_id</th>\n",
       "    </tr>\n",
       "  </thead>\n",
       "  <tbody>\n",
       "    <tr>\n",
       "      <th>count</th>\n",
       "      <td>202607.000000</td>\n",
       "      <td>202607.000000</td>\n",
       "    </tr>\n",
       "    <tr>\n",
       "      <th>mean</th>\n",
       "      <td>6.755887</td>\n",
       "      <td>1253.940619</td>\n",
       "    </tr>\n",
       "    <tr>\n",
       "      <th>std</th>\n",
       "      <td>5.843365</td>\n",
       "      <td>144.722751</td>\n",
       "    </tr>\n",
       "    <tr>\n",
       "      <th>min</th>\n",
       "      <td>0.000000</td>\n",
       "      <td>1000.000000</td>\n",
       "    </tr>\n",
       "    <tr>\n",
       "      <th>25%</th>\n",
       "      <td>1.300000</td>\n",
       "      <td>1126.000000</td>\n",
       "    </tr>\n",
       "    <tr>\n",
       "      <th>50%</th>\n",
       "      <td>6.000000</td>\n",
       "      <td>1260.000000</td>\n",
       "    </tr>\n",
       "    <tr>\n",
       "      <th>75%</th>\n",
       "      <td>10.700000</td>\n",
       "      <td>1379.000000</td>\n",
       "    </tr>\n",
       "    <tr>\n",
       "      <th>max</th>\n",
       "      <td>38.000000</td>\n",
       "      <td>1499.000000</td>\n",
       "    </tr>\n",
       "  </tbody>\n",
       "</table>\n",
       "</div>"
      ],
      "text/plain": [
       "            duration        user_id\n",
       "count  202607.000000  202607.000000\n",
       "mean        6.755887    1253.940619\n",
       "std         5.843365     144.722751\n",
       "min         0.000000    1000.000000\n",
       "25%         1.300000    1126.000000\n",
       "50%         6.000000    1260.000000\n",
       "75%        10.700000    1379.000000\n",
       "max        38.000000    1499.000000"
      ]
     },
     "metadata": {},
     "output_type": "display_data"
    },
    {
     "name": "stdout",
     "output_type": "stream",
     "text": [
      "Явных дубликатов данных: 0\n",
      "описание датасета internet:\n",
      "__________________________\n"
     ]
    },
    {
     "data": {
      "text/html": [
       "<div>\n",
       "<style scoped>\n",
       "    .dataframe tbody tr th:only-of-type {\n",
       "        vertical-align: middle;\n",
       "    }\n",
       "\n",
       "    .dataframe tbody tr th {\n",
       "        vertical-align: top;\n",
       "    }\n",
       "\n",
       "    .dataframe thead th {\n",
       "        text-align: right;\n",
       "    }\n",
       "</style>\n",
       "<table border=\"1\" class=\"dataframe\">\n",
       "  <thead>\n",
       "    <tr style=\"text-align: right;\">\n",
       "      <th></th>\n",
       "      <th>Unnamed: 0</th>\n",
       "      <th>id</th>\n",
       "      <th>mb_used</th>\n",
       "      <th>session_date</th>\n",
       "      <th>user_id</th>\n",
       "    </tr>\n",
       "  </thead>\n",
       "  <tbody>\n",
       "    <tr>\n",
       "      <th>0</th>\n",
       "      <td>0</td>\n",
       "      <td>1000_0</td>\n",
       "      <td>112.95</td>\n",
       "      <td>2018-11-25</td>\n",
       "      <td>1000</td>\n",
       "    </tr>\n",
       "    <tr>\n",
       "      <th>1</th>\n",
       "      <td>1</td>\n",
       "      <td>1000_1</td>\n",
       "      <td>1052.81</td>\n",
       "      <td>2018-09-07</td>\n",
       "      <td>1000</td>\n",
       "    </tr>\n",
       "    <tr>\n",
       "      <th>2</th>\n",
       "      <td>2</td>\n",
       "      <td>1000_2</td>\n",
       "      <td>1197.26</td>\n",
       "      <td>2018-06-25</td>\n",
       "      <td>1000</td>\n",
       "    </tr>\n",
       "    <tr>\n",
       "      <th>3</th>\n",
       "      <td>3</td>\n",
       "      <td>1000_3</td>\n",
       "      <td>550.27</td>\n",
       "      <td>2018-08-22</td>\n",
       "      <td>1000</td>\n",
       "    </tr>\n",
       "    <tr>\n",
       "      <th>4</th>\n",
       "      <td>4</td>\n",
       "      <td>1000_4</td>\n",
       "      <td>302.56</td>\n",
       "      <td>2018-09-24</td>\n",
       "      <td>1000</td>\n",
       "    </tr>\n",
       "  </tbody>\n",
       "</table>\n",
       "</div>"
      ],
      "text/plain": [
       "   Unnamed: 0      id  mb_used session_date  user_id\n",
       "0           0  1000_0   112.95   2018-11-25     1000\n",
       "1           1  1000_1  1052.81   2018-09-07     1000\n",
       "2           2  1000_2  1197.26   2018-06-25     1000\n",
       "3           3  1000_3   550.27   2018-08-22     1000\n",
       "4           4  1000_4   302.56   2018-09-24     1000"
      ]
     },
     "metadata": {},
     "output_type": "display_data"
    },
    {
     "name": "stdout",
     "output_type": "stream",
     "text": [
      "<class 'pandas.core.frame.DataFrame'>\n",
      "RangeIndex: 149396 entries, 0 to 149395\n",
      "Data columns (total 5 columns):\n",
      " #   Column        Non-Null Count   Dtype  \n",
      "---  ------        --------------   -----  \n",
      " 0   Unnamed: 0    149396 non-null  int64  \n",
      " 1   id            149396 non-null  object \n",
      " 2   mb_used       149396 non-null  float64\n",
      " 3   session_date  149396 non-null  object \n",
      " 4   user_id       149396 non-null  int64  \n",
      "dtypes: float64(1), int64(2), object(2)\n",
      "memory usage: 5.7+ MB\n"
     ]
    },
    {
     "data": {
      "text/plain": [
       "None"
      ]
     },
     "metadata": {},
     "output_type": "display_data"
    },
    {
     "data": {
      "text/html": [
       "<div>\n",
       "<style scoped>\n",
       "    .dataframe tbody tr th:only-of-type {\n",
       "        vertical-align: middle;\n",
       "    }\n",
       "\n",
       "    .dataframe tbody tr th {\n",
       "        vertical-align: top;\n",
       "    }\n",
       "\n",
       "    .dataframe thead th {\n",
       "        text-align: right;\n",
       "    }\n",
       "</style>\n",
       "<table border=\"1\" class=\"dataframe\">\n",
       "  <thead>\n",
       "    <tr style=\"text-align: right;\">\n",
       "      <th></th>\n",
       "      <th>Unnamed: 0</th>\n",
       "      <th>mb_used</th>\n",
       "      <th>user_id</th>\n",
       "    </tr>\n",
       "  </thead>\n",
       "  <tbody>\n",
       "    <tr>\n",
       "      <th>count</th>\n",
       "      <td>149396.000000</td>\n",
       "      <td>149396.000000</td>\n",
       "      <td>149396.000000</td>\n",
       "    </tr>\n",
       "    <tr>\n",
       "      <th>mean</th>\n",
       "      <td>74697.500000</td>\n",
       "      <td>370.192426</td>\n",
       "      <td>1252.099842</td>\n",
       "    </tr>\n",
       "    <tr>\n",
       "      <th>std</th>\n",
       "      <td>43127.054745</td>\n",
       "      <td>278.300951</td>\n",
       "      <td>144.050823</td>\n",
       "    </tr>\n",
       "    <tr>\n",
       "      <th>min</th>\n",
       "      <td>0.000000</td>\n",
       "      <td>0.000000</td>\n",
       "      <td>1000.000000</td>\n",
       "    </tr>\n",
       "    <tr>\n",
       "      <th>25%</th>\n",
       "      <td>37348.750000</td>\n",
       "      <td>138.187500</td>\n",
       "      <td>1130.000000</td>\n",
       "    </tr>\n",
       "    <tr>\n",
       "      <th>50%</th>\n",
       "      <td>74697.500000</td>\n",
       "      <td>348.015000</td>\n",
       "      <td>1251.000000</td>\n",
       "    </tr>\n",
       "    <tr>\n",
       "      <th>75%</th>\n",
       "      <td>112046.250000</td>\n",
       "      <td>559.552500</td>\n",
       "      <td>1380.000000</td>\n",
       "    </tr>\n",
       "    <tr>\n",
       "      <th>max</th>\n",
       "      <td>149395.000000</td>\n",
       "      <td>1724.830000</td>\n",
       "      <td>1499.000000</td>\n",
       "    </tr>\n",
       "  </tbody>\n",
       "</table>\n",
       "</div>"
      ],
      "text/plain": [
       "          Unnamed: 0        mb_used        user_id\n",
       "count  149396.000000  149396.000000  149396.000000\n",
       "mean    74697.500000     370.192426    1252.099842\n",
       "std     43127.054745     278.300951     144.050823\n",
       "min         0.000000       0.000000    1000.000000\n",
       "25%     37348.750000     138.187500    1130.000000\n",
       "50%     74697.500000     348.015000    1251.000000\n",
       "75%    112046.250000     559.552500    1380.000000\n",
       "max    149395.000000    1724.830000    1499.000000"
      ]
     },
     "metadata": {},
     "output_type": "display_data"
    },
    {
     "name": "stdout",
     "output_type": "stream",
     "text": [
      "Явных дубликатов данных: 0\n",
      "описание датасета messages:\n",
      "__________________________\n"
     ]
    },
    {
     "data": {
      "text/html": [
       "<div>\n",
       "<style scoped>\n",
       "    .dataframe tbody tr th:only-of-type {\n",
       "        vertical-align: middle;\n",
       "    }\n",
       "\n",
       "    .dataframe tbody tr th {\n",
       "        vertical-align: top;\n",
       "    }\n",
       "\n",
       "    .dataframe thead th {\n",
       "        text-align: right;\n",
       "    }\n",
       "</style>\n",
       "<table border=\"1\" class=\"dataframe\">\n",
       "  <thead>\n",
       "    <tr style=\"text-align: right;\">\n",
       "      <th></th>\n",
       "      <th>id</th>\n",
       "      <th>message_date</th>\n",
       "      <th>user_id</th>\n",
       "    </tr>\n",
       "  </thead>\n",
       "  <tbody>\n",
       "    <tr>\n",
       "      <th>0</th>\n",
       "      <td>1000_0</td>\n",
       "      <td>2018-06-27</td>\n",
       "      <td>1000</td>\n",
       "    </tr>\n",
       "    <tr>\n",
       "      <th>1</th>\n",
       "      <td>1000_1</td>\n",
       "      <td>2018-10-08</td>\n",
       "      <td>1000</td>\n",
       "    </tr>\n",
       "    <tr>\n",
       "      <th>2</th>\n",
       "      <td>1000_2</td>\n",
       "      <td>2018-08-04</td>\n",
       "      <td>1000</td>\n",
       "    </tr>\n",
       "    <tr>\n",
       "      <th>3</th>\n",
       "      <td>1000_3</td>\n",
       "      <td>2018-06-16</td>\n",
       "      <td>1000</td>\n",
       "    </tr>\n",
       "    <tr>\n",
       "      <th>4</th>\n",
       "      <td>1000_4</td>\n",
       "      <td>2018-12-05</td>\n",
       "      <td>1000</td>\n",
       "    </tr>\n",
       "  </tbody>\n",
       "</table>\n",
       "</div>"
      ],
      "text/plain": [
       "       id message_date  user_id\n",
       "0  1000_0   2018-06-27     1000\n",
       "1  1000_1   2018-10-08     1000\n",
       "2  1000_2   2018-08-04     1000\n",
       "3  1000_3   2018-06-16     1000\n",
       "4  1000_4   2018-12-05     1000"
      ]
     },
     "metadata": {},
     "output_type": "display_data"
    },
    {
     "name": "stdout",
     "output_type": "stream",
     "text": [
      "<class 'pandas.core.frame.DataFrame'>\n",
      "RangeIndex: 123036 entries, 0 to 123035\n",
      "Data columns (total 3 columns):\n",
      " #   Column        Non-Null Count   Dtype \n",
      "---  ------        --------------   ----- \n",
      " 0   id            123036 non-null  object\n",
      " 1   message_date  123036 non-null  object\n",
      " 2   user_id       123036 non-null  int64 \n",
      "dtypes: int64(1), object(2)\n",
      "memory usage: 2.8+ MB\n"
     ]
    },
    {
     "data": {
      "text/plain": [
       "None"
      ]
     },
     "metadata": {},
     "output_type": "display_data"
    },
    {
     "data": {
      "text/html": [
       "<div>\n",
       "<style scoped>\n",
       "    .dataframe tbody tr th:only-of-type {\n",
       "        vertical-align: middle;\n",
       "    }\n",
       "\n",
       "    .dataframe tbody tr th {\n",
       "        vertical-align: top;\n",
       "    }\n",
       "\n",
       "    .dataframe thead th {\n",
       "        text-align: right;\n",
       "    }\n",
       "</style>\n",
       "<table border=\"1\" class=\"dataframe\">\n",
       "  <thead>\n",
       "    <tr style=\"text-align: right;\">\n",
       "      <th></th>\n",
       "      <th>user_id</th>\n",
       "    </tr>\n",
       "  </thead>\n",
       "  <tbody>\n",
       "    <tr>\n",
       "      <th>count</th>\n",
       "      <td>123036.000000</td>\n",
       "    </tr>\n",
       "    <tr>\n",
       "      <th>mean</th>\n",
       "      <td>1256.989410</td>\n",
       "    </tr>\n",
       "    <tr>\n",
       "      <th>std</th>\n",
       "      <td>143.523967</td>\n",
       "    </tr>\n",
       "    <tr>\n",
       "      <th>min</th>\n",
       "      <td>1000.000000</td>\n",
       "    </tr>\n",
       "    <tr>\n",
       "      <th>25%</th>\n",
       "      <td>1134.000000</td>\n",
       "    </tr>\n",
       "    <tr>\n",
       "      <th>50%</th>\n",
       "      <td>1271.000000</td>\n",
       "    </tr>\n",
       "    <tr>\n",
       "      <th>75%</th>\n",
       "      <td>1381.000000</td>\n",
       "    </tr>\n",
       "    <tr>\n",
       "      <th>max</th>\n",
       "      <td>1499.000000</td>\n",
       "    </tr>\n",
       "  </tbody>\n",
       "</table>\n",
       "</div>"
      ],
      "text/plain": [
       "             user_id\n",
       "count  123036.000000\n",
       "mean     1256.989410\n",
       "std       143.523967\n",
       "min      1000.000000\n",
       "25%      1134.000000\n",
       "50%      1271.000000\n",
       "75%      1381.000000\n",
       "max      1499.000000"
      ]
     },
     "metadata": {},
     "output_type": "display_data"
    },
    {
     "name": "stdout",
     "output_type": "stream",
     "text": [
      "Явных дубликатов данных: 0\n",
      "описание датасета tariffs:\n",
      "__________________________\n"
     ]
    },
    {
     "data": {
      "text/html": [
       "<div>\n",
       "<style scoped>\n",
       "    .dataframe tbody tr th:only-of-type {\n",
       "        vertical-align: middle;\n",
       "    }\n",
       "\n",
       "    .dataframe tbody tr th {\n",
       "        vertical-align: top;\n",
       "    }\n",
       "\n",
       "    .dataframe thead th {\n",
       "        text-align: right;\n",
       "    }\n",
       "</style>\n",
       "<table border=\"1\" class=\"dataframe\">\n",
       "  <thead>\n",
       "    <tr style=\"text-align: right;\">\n",
       "      <th></th>\n",
       "      <th>messages_included</th>\n",
       "      <th>mb_per_month_included</th>\n",
       "      <th>minutes_included</th>\n",
       "      <th>rub_monthly_fee</th>\n",
       "      <th>rub_per_gb</th>\n",
       "      <th>rub_per_message</th>\n",
       "      <th>rub_per_minute</th>\n",
       "      <th>tariff_name</th>\n",
       "    </tr>\n",
       "  </thead>\n",
       "  <tbody>\n",
       "    <tr>\n",
       "      <th>0</th>\n",
       "      <td>50</td>\n",
       "      <td>15360</td>\n",
       "      <td>500</td>\n",
       "      <td>550</td>\n",
       "      <td>200</td>\n",
       "      <td>3</td>\n",
       "      <td>3</td>\n",
       "      <td>smart</td>\n",
       "    </tr>\n",
       "    <tr>\n",
       "      <th>1</th>\n",
       "      <td>1000</td>\n",
       "      <td>30720</td>\n",
       "      <td>3000</td>\n",
       "      <td>1950</td>\n",
       "      <td>150</td>\n",
       "      <td>1</td>\n",
       "      <td>1</td>\n",
       "      <td>ultra</td>\n",
       "    </tr>\n",
       "  </tbody>\n",
       "</table>\n",
       "</div>"
      ],
      "text/plain": [
       "   messages_included  mb_per_month_included  minutes_included  \\\n",
       "0                 50                  15360               500   \n",
       "1               1000                  30720              3000   \n",
       "\n",
       "   rub_monthly_fee  rub_per_gb  rub_per_message  rub_per_minute tariff_name  \n",
       "0              550         200                3               3       smart  \n",
       "1             1950         150                1               1       ultra  "
      ]
     },
     "metadata": {},
     "output_type": "display_data"
    },
    {
     "name": "stdout",
     "output_type": "stream",
     "text": [
      "<class 'pandas.core.frame.DataFrame'>\n",
      "RangeIndex: 2 entries, 0 to 1\n",
      "Data columns (total 8 columns):\n",
      " #   Column                 Non-Null Count  Dtype \n",
      "---  ------                 --------------  ----- \n",
      " 0   messages_included      2 non-null      int64 \n",
      " 1   mb_per_month_included  2 non-null      int64 \n",
      " 2   minutes_included       2 non-null      int64 \n",
      " 3   rub_monthly_fee        2 non-null      int64 \n",
      " 4   rub_per_gb             2 non-null      int64 \n",
      " 5   rub_per_message        2 non-null      int64 \n",
      " 6   rub_per_minute         2 non-null      int64 \n",
      " 7   tariff_name            2 non-null      object\n",
      "dtypes: int64(7), object(1)\n",
      "memory usage: 256.0+ bytes\n"
     ]
    },
    {
     "data": {
      "text/plain": [
       "None"
      ]
     },
     "metadata": {},
     "output_type": "display_data"
    },
    {
     "data": {
      "text/html": [
       "<div>\n",
       "<style scoped>\n",
       "    .dataframe tbody tr th:only-of-type {\n",
       "        vertical-align: middle;\n",
       "    }\n",
       "\n",
       "    .dataframe tbody tr th {\n",
       "        vertical-align: top;\n",
       "    }\n",
       "\n",
       "    .dataframe thead th {\n",
       "        text-align: right;\n",
       "    }\n",
       "</style>\n",
       "<table border=\"1\" class=\"dataframe\">\n",
       "  <thead>\n",
       "    <tr style=\"text-align: right;\">\n",
       "      <th></th>\n",
       "      <th>messages_included</th>\n",
       "      <th>mb_per_month_included</th>\n",
       "      <th>minutes_included</th>\n",
       "      <th>rub_monthly_fee</th>\n",
       "      <th>rub_per_gb</th>\n",
       "      <th>rub_per_message</th>\n",
       "      <th>rub_per_minute</th>\n",
       "    </tr>\n",
       "  </thead>\n",
       "  <tbody>\n",
       "    <tr>\n",
       "      <th>count</th>\n",
       "      <td>2.000000</td>\n",
       "      <td>2.000000</td>\n",
       "      <td>2.000000</td>\n",
       "      <td>2.000000</td>\n",
       "      <td>2.000000</td>\n",
       "      <td>2.000000</td>\n",
       "      <td>2.000000</td>\n",
       "    </tr>\n",
       "    <tr>\n",
       "      <th>mean</th>\n",
       "      <td>525.000000</td>\n",
       "      <td>23040.000000</td>\n",
       "      <td>1750.000000</td>\n",
       "      <td>1250.000000</td>\n",
       "      <td>175.000000</td>\n",
       "      <td>2.000000</td>\n",
       "      <td>2.000000</td>\n",
       "    </tr>\n",
       "    <tr>\n",
       "      <th>std</th>\n",
       "      <td>671.751442</td>\n",
       "      <td>10861.160159</td>\n",
       "      <td>1767.766953</td>\n",
       "      <td>989.949494</td>\n",
       "      <td>35.355339</td>\n",
       "      <td>1.414214</td>\n",
       "      <td>1.414214</td>\n",
       "    </tr>\n",
       "    <tr>\n",
       "      <th>min</th>\n",
       "      <td>50.000000</td>\n",
       "      <td>15360.000000</td>\n",
       "      <td>500.000000</td>\n",
       "      <td>550.000000</td>\n",
       "      <td>150.000000</td>\n",
       "      <td>1.000000</td>\n",
       "      <td>1.000000</td>\n",
       "    </tr>\n",
       "    <tr>\n",
       "      <th>25%</th>\n",
       "      <td>287.500000</td>\n",
       "      <td>19200.000000</td>\n",
       "      <td>1125.000000</td>\n",
       "      <td>900.000000</td>\n",
       "      <td>162.500000</td>\n",
       "      <td>1.500000</td>\n",
       "      <td>1.500000</td>\n",
       "    </tr>\n",
       "    <tr>\n",
       "      <th>50%</th>\n",
       "      <td>525.000000</td>\n",
       "      <td>23040.000000</td>\n",
       "      <td>1750.000000</td>\n",
       "      <td>1250.000000</td>\n",
       "      <td>175.000000</td>\n",
       "      <td>2.000000</td>\n",
       "      <td>2.000000</td>\n",
       "    </tr>\n",
       "    <tr>\n",
       "      <th>75%</th>\n",
       "      <td>762.500000</td>\n",
       "      <td>26880.000000</td>\n",
       "      <td>2375.000000</td>\n",
       "      <td>1600.000000</td>\n",
       "      <td>187.500000</td>\n",
       "      <td>2.500000</td>\n",
       "      <td>2.500000</td>\n",
       "    </tr>\n",
       "    <tr>\n",
       "      <th>max</th>\n",
       "      <td>1000.000000</td>\n",
       "      <td>30720.000000</td>\n",
       "      <td>3000.000000</td>\n",
       "      <td>1950.000000</td>\n",
       "      <td>200.000000</td>\n",
       "      <td>3.000000</td>\n",
       "      <td>3.000000</td>\n",
       "    </tr>\n",
       "  </tbody>\n",
       "</table>\n",
       "</div>"
      ],
      "text/plain": [
       "       messages_included  mb_per_month_included  minutes_included  \\\n",
       "count           2.000000               2.000000          2.000000   \n",
       "mean          525.000000           23040.000000       1750.000000   \n",
       "std           671.751442           10861.160159       1767.766953   \n",
       "min            50.000000           15360.000000        500.000000   \n",
       "25%           287.500000           19200.000000       1125.000000   \n",
       "50%           525.000000           23040.000000       1750.000000   \n",
       "75%           762.500000           26880.000000       2375.000000   \n",
       "max          1000.000000           30720.000000       3000.000000   \n",
       "\n",
       "       rub_monthly_fee  rub_per_gb  rub_per_message  rub_per_minute  \n",
       "count         2.000000    2.000000         2.000000        2.000000  \n",
       "mean       1250.000000  175.000000         2.000000        2.000000  \n",
       "std         989.949494   35.355339         1.414214        1.414214  \n",
       "min         550.000000  150.000000         1.000000        1.000000  \n",
       "25%         900.000000  162.500000         1.500000        1.500000  \n",
       "50%        1250.000000  175.000000         2.000000        2.000000  \n",
       "75%        1600.000000  187.500000         2.500000        2.500000  \n",
       "max        1950.000000  200.000000         3.000000        3.000000  "
      ]
     },
     "metadata": {},
     "output_type": "display_data"
    },
    {
     "name": "stdout",
     "output_type": "stream",
     "text": [
      "Явных дубликатов данных: 0\n",
      "описание датасета users:\n",
      "__________________________\n"
     ]
    },
    {
     "data": {
      "text/html": [
       "<div>\n",
       "<style scoped>\n",
       "    .dataframe tbody tr th:only-of-type {\n",
       "        vertical-align: middle;\n",
       "    }\n",
       "\n",
       "    .dataframe tbody tr th {\n",
       "        vertical-align: top;\n",
       "    }\n",
       "\n",
       "    .dataframe thead th {\n",
       "        text-align: right;\n",
       "    }\n",
       "</style>\n",
       "<table border=\"1\" class=\"dataframe\">\n",
       "  <thead>\n",
       "    <tr style=\"text-align: right;\">\n",
       "      <th></th>\n",
       "      <th>user_id</th>\n",
       "      <th>age</th>\n",
       "      <th>churn_date</th>\n",
       "      <th>city</th>\n",
       "      <th>first_name</th>\n",
       "      <th>last_name</th>\n",
       "      <th>reg_date</th>\n",
       "      <th>tariff</th>\n",
       "    </tr>\n",
       "  </thead>\n",
       "  <tbody>\n",
       "    <tr>\n",
       "      <th>0</th>\n",
       "      <td>1000</td>\n",
       "      <td>52</td>\n",
       "      <td>NaN</td>\n",
       "      <td>Краснодар</td>\n",
       "      <td>Рафаил</td>\n",
       "      <td>Верещагин</td>\n",
       "      <td>2018-05-25</td>\n",
       "      <td>ultra</td>\n",
       "    </tr>\n",
       "    <tr>\n",
       "      <th>1</th>\n",
       "      <td>1001</td>\n",
       "      <td>41</td>\n",
       "      <td>NaN</td>\n",
       "      <td>Москва</td>\n",
       "      <td>Иван</td>\n",
       "      <td>Ежов</td>\n",
       "      <td>2018-11-01</td>\n",
       "      <td>smart</td>\n",
       "    </tr>\n",
       "    <tr>\n",
       "      <th>2</th>\n",
       "      <td>1002</td>\n",
       "      <td>59</td>\n",
       "      <td>NaN</td>\n",
       "      <td>Стерлитамак</td>\n",
       "      <td>Евгений</td>\n",
       "      <td>Абрамович</td>\n",
       "      <td>2018-06-17</td>\n",
       "      <td>smart</td>\n",
       "    </tr>\n",
       "    <tr>\n",
       "      <th>3</th>\n",
       "      <td>1003</td>\n",
       "      <td>23</td>\n",
       "      <td>NaN</td>\n",
       "      <td>Москва</td>\n",
       "      <td>Белла</td>\n",
       "      <td>Белякова</td>\n",
       "      <td>2018-08-17</td>\n",
       "      <td>ultra</td>\n",
       "    </tr>\n",
       "    <tr>\n",
       "      <th>4</th>\n",
       "      <td>1004</td>\n",
       "      <td>68</td>\n",
       "      <td>NaN</td>\n",
       "      <td>Новокузнецк</td>\n",
       "      <td>Татьяна</td>\n",
       "      <td>Авдеенко</td>\n",
       "      <td>2018-05-14</td>\n",
       "      <td>ultra</td>\n",
       "    </tr>\n",
       "  </tbody>\n",
       "</table>\n",
       "</div>"
      ],
      "text/plain": [
       "   user_id  age churn_date         city first_name  last_name    reg_date  \\\n",
       "0     1000   52        NaN    Краснодар     Рафаил  Верещагин  2018-05-25   \n",
       "1     1001   41        NaN       Москва       Иван       Ежов  2018-11-01   \n",
       "2     1002   59        NaN  Стерлитамак    Евгений  Абрамович  2018-06-17   \n",
       "3     1003   23        NaN       Москва      Белла   Белякова  2018-08-17   \n",
       "4     1004   68        NaN  Новокузнецк    Татьяна   Авдеенко  2018-05-14   \n",
       "\n",
       "  tariff  \n",
       "0  ultra  \n",
       "1  smart  \n",
       "2  smart  \n",
       "3  ultra  \n",
       "4  ultra  "
      ]
     },
     "metadata": {},
     "output_type": "display_data"
    },
    {
     "name": "stdout",
     "output_type": "stream",
     "text": [
      "<class 'pandas.core.frame.DataFrame'>\n",
      "RangeIndex: 500 entries, 0 to 499\n",
      "Data columns (total 8 columns):\n",
      " #   Column      Non-Null Count  Dtype \n",
      "---  ------      --------------  ----- \n",
      " 0   user_id     500 non-null    int64 \n",
      " 1   age         500 non-null    int64 \n",
      " 2   churn_date  38 non-null     object\n",
      " 3   city        500 non-null    object\n",
      " 4   first_name  500 non-null    object\n",
      " 5   last_name   500 non-null    object\n",
      " 6   reg_date    500 non-null    object\n",
      " 7   tariff      500 non-null    object\n",
      "dtypes: int64(2), object(6)\n",
      "memory usage: 31.4+ KB\n"
     ]
    },
    {
     "data": {
      "text/plain": [
       "None"
      ]
     },
     "metadata": {},
     "output_type": "display_data"
    },
    {
     "data": {
      "text/html": [
       "<div>\n",
       "<style scoped>\n",
       "    .dataframe tbody tr th:only-of-type {\n",
       "        vertical-align: middle;\n",
       "    }\n",
       "\n",
       "    .dataframe tbody tr th {\n",
       "        vertical-align: top;\n",
       "    }\n",
       "\n",
       "    .dataframe thead th {\n",
       "        text-align: right;\n",
       "    }\n",
       "</style>\n",
       "<table border=\"1\" class=\"dataframe\">\n",
       "  <thead>\n",
       "    <tr style=\"text-align: right;\">\n",
       "      <th></th>\n",
       "      <th>user_id</th>\n",
       "      <th>age</th>\n",
       "    </tr>\n",
       "  </thead>\n",
       "  <tbody>\n",
       "    <tr>\n",
       "      <th>count</th>\n",
       "      <td>500.000000</td>\n",
       "      <td>500.00000</td>\n",
       "    </tr>\n",
       "    <tr>\n",
       "      <th>mean</th>\n",
       "      <td>1249.500000</td>\n",
       "      <td>46.58800</td>\n",
       "    </tr>\n",
       "    <tr>\n",
       "      <th>std</th>\n",
       "      <td>144.481833</td>\n",
       "      <td>16.66763</td>\n",
       "    </tr>\n",
       "    <tr>\n",
       "      <th>min</th>\n",
       "      <td>1000.000000</td>\n",
       "      <td>18.00000</td>\n",
       "    </tr>\n",
       "    <tr>\n",
       "      <th>25%</th>\n",
       "      <td>1124.750000</td>\n",
       "      <td>32.00000</td>\n",
       "    </tr>\n",
       "    <tr>\n",
       "      <th>50%</th>\n",
       "      <td>1249.500000</td>\n",
       "      <td>46.00000</td>\n",
       "    </tr>\n",
       "    <tr>\n",
       "      <th>75%</th>\n",
       "      <td>1374.250000</td>\n",
       "      <td>62.00000</td>\n",
       "    </tr>\n",
       "    <tr>\n",
       "      <th>max</th>\n",
       "      <td>1499.000000</td>\n",
       "      <td>75.00000</td>\n",
       "    </tr>\n",
       "  </tbody>\n",
       "</table>\n",
       "</div>"
      ],
      "text/plain": [
       "           user_id        age\n",
       "count   500.000000  500.00000\n",
       "mean   1249.500000   46.58800\n",
       "std     144.481833   16.66763\n",
       "min    1000.000000   18.00000\n",
       "25%    1124.750000   32.00000\n",
       "50%    1249.500000   46.00000\n",
       "75%    1374.250000   62.00000\n",
       "max    1499.000000   75.00000"
      ]
     },
     "metadata": {},
     "output_type": "display_data"
    },
    {
     "name": "stdout",
     "output_type": "stream",
     "text": [
      "Явных дубликатов данных: 0\n"
     ]
    }
   ],
   "source": [
    "df = {'calls':calls,'internet':internet,'messages':messages,'tariffs':tariffs,'users':users}\n",
    "for key,value in df.items():\n",
    "    print(f'описание датасета {key}:')\n",
    "    print('__________________________')\n",
    "    display(value.head(5))\n",
    "    display(value.info())\n",
    "    display(value.describe())\n",
    "    print(f'Явных дубликатов данных: {value.duplicated().sum()}')"
   ]
  },
  {
   "cell_type": "markdown",
   "id": "061498c2",
   "metadata": {},
   "source": [
    "<a id='2'></a>\n",
    "# 2. Приведение типов данных и проверка на дубликаты"
   ]
  },
  {
   "cell_type": "code",
   "execution_count": 4,
   "id": "2c3bfbb6",
   "metadata": {
    "scrolled": true
   },
   "outputs": [
    {
     "name": "stdout",
     "output_type": "stream",
     "text": [
      "Уникальные названия тарифов в \"tariffs\" ['smart' 'ultra']\n",
      "Уникальные названия тарифов в \"users\" ['ultra' 'smart']\n"
     ]
    }
   ],
   "source": [
    "calls['call_id'] = calls['id'].apply(lambda x: x[5:])\n",
    "# calls['call_month'] = calls['call_date'].apply(lambda x: (dt.strptime(x[:-3],'%Y-%m')))\n",
    "calls['call_month'] = pd.to_datetime(calls['call_date']).dt.month\n",
    "\n",
    "calls = calls.astype({'call_date':np.datetime64,\n",
    "                     'call_id':np.uint16,\n",
    "                    'user_id':np.uint16})\n",
    "\n",
    "internet['internet_id'] = internet['id'].apply(lambda x: x[5:])\n",
    "# internet['internet_month'] = internet['session_date'].apply(lambda x: (dt.strptime(x[:-3],'%Y-%m')))\n",
    "internet['internet_month'] = pd.to_datetime(internet['session_date']).dt.month\n",
    "\n",
    "internet = internet.astype({'session_date':np.datetime64,\n",
    "                            'internet_id':np.uint16,\n",
    "                           'user_id':np.uint16})\n",
    "\n",
    "messages['message_id'] = messages['id'].apply(lambda x: x[5:])\n",
    "# messages['message_month'] = messages['message_date']apply(lambda x: (dt.strptime(x[:-3],'%Y-%m')))\n",
    "messages['message_month'] = pd.to_datetime(messages['message_date']).dt.month\n",
    "messages = messages.astype({'message_date':np.datetime64,\n",
    "                            'message_id':np.uint16,\n",
    "                           'user_id':np.uint16})\n",
    "\n",
    "print('Уникальные названия тарифов в \"tariffs\"',tariffs['tariff_name'].unique())\n",
    "\n",
    "# users['reg_month'] = users['reg_date'].apply(lambda x: (dt.strptime(x[:-3],'%Y-%m')))\n",
    "users['reg_month'] = pd.to_datetime(users['reg_date']).dt.month\n",
    "users = users.astype({'reg_date':np.datetime64,\n",
    "                     'churn_date':np.datetime64,\n",
    "                     'user_id':np.uint16,\n",
    "                     'age':np.uint8})\n",
    "\n",
    "print('Уникальные названия тарифов в \"users\"',users['tariff'].unique())\n",
    "tariffs = tariffs.astype(\n",
    "    {'messages_included':np.uint16,\n",
    "     'mb_per_month_included':np.uint16,\n",
    "     'minutes_included':np.uint16,\n",
    "     'rub_monthly_fee':np.uint16,\n",
    "     'rub_per_gb':np.uint16,\n",
    "     'rub_per_message':np.uint16,\n",
    "     'rub_per_minute':np.uint16\n",
    "    \n",
    "})"
   ]
  },
  {
   "cell_type": "markdown",
   "id": "99584113",
   "metadata": {},
   "source": [
    "#### Нумерация в 'calls', 'internet , 'messages' представлена user_id + id. Решено с помощью удаления user_id и '_' из номера."
   ]
  },
  {
   "cell_type": "code",
   "execution_count": 5,
   "id": "669e32b0",
   "metadata": {
    "scrolled": false
   },
   "outputs": [
    {
     "name": "stdout",
     "output_type": "stream",
     "text": [
      "описание датасета calls:\n",
      "__________________________\n"
     ]
    },
    {
     "data": {
      "text/html": [
       "<div>\n",
       "<style scoped>\n",
       "    .dataframe tbody tr th:only-of-type {\n",
       "        vertical-align: middle;\n",
       "    }\n",
       "\n",
       "    .dataframe tbody tr th {\n",
       "        vertical-align: top;\n",
       "    }\n",
       "\n",
       "    .dataframe thead th {\n",
       "        text-align: right;\n",
       "    }\n",
       "</style>\n",
       "<table border=\"1\" class=\"dataframe\">\n",
       "  <thead>\n",
       "    <tr style=\"text-align: right;\">\n",
       "      <th></th>\n",
       "      <th>id</th>\n",
       "      <th>call_date</th>\n",
       "      <th>duration</th>\n",
       "      <th>user_id</th>\n",
       "      <th>call_id</th>\n",
       "      <th>call_month</th>\n",
       "    </tr>\n",
       "  </thead>\n",
       "  <tbody>\n",
       "    <tr>\n",
       "      <th>0</th>\n",
       "      <td>1000_0</td>\n",
       "      <td>2018-07-25</td>\n",
       "      <td>0.00</td>\n",
       "      <td>1000</td>\n",
       "      <td>0</td>\n",
       "      <td>7</td>\n",
       "    </tr>\n",
       "    <tr>\n",
       "      <th>1</th>\n",
       "      <td>1000_1</td>\n",
       "      <td>2018-08-17</td>\n",
       "      <td>0.00</td>\n",
       "      <td>1000</td>\n",
       "      <td>1</td>\n",
       "      <td>8</td>\n",
       "    </tr>\n",
       "    <tr>\n",
       "      <th>2</th>\n",
       "      <td>1000_2</td>\n",
       "      <td>2018-06-11</td>\n",
       "      <td>2.85</td>\n",
       "      <td>1000</td>\n",
       "      <td>2</td>\n",
       "      <td>6</td>\n",
       "    </tr>\n",
       "    <tr>\n",
       "      <th>3</th>\n",
       "      <td>1000_3</td>\n",
       "      <td>2018-09-21</td>\n",
       "      <td>13.80</td>\n",
       "      <td>1000</td>\n",
       "      <td>3</td>\n",
       "      <td>9</td>\n",
       "    </tr>\n",
       "    <tr>\n",
       "      <th>4</th>\n",
       "      <td>1000_4</td>\n",
       "      <td>2018-12-15</td>\n",
       "      <td>5.18</td>\n",
       "      <td>1000</td>\n",
       "      <td>4</td>\n",
       "      <td>12</td>\n",
       "    </tr>\n",
       "  </tbody>\n",
       "</table>\n",
       "</div>"
      ],
      "text/plain": [
       "       id  call_date  duration  user_id  call_id  call_month\n",
       "0  1000_0 2018-07-25      0.00     1000        0           7\n",
       "1  1000_1 2018-08-17      0.00     1000        1           8\n",
       "2  1000_2 2018-06-11      2.85     1000        2           6\n",
       "3  1000_3 2018-09-21     13.80     1000        3           9\n",
       "4  1000_4 2018-12-15      5.18     1000        4          12"
      ]
     },
     "metadata": {},
     "output_type": "display_data"
    },
    {
     "name": "stdout",
     "output_type": "stream",
     "text": [
      "<class 'pandas.core.frame.DataFrame'>\n",
      "RangeIndex: 202607 entries, 0 to 202606\n",
      "Data columns (total 6 columns):\n",
      " #   Column      Non-Null Count   Dtype         \n",
      "---  ------      --------------   -----         \n",
      " 0   id          202607 non-null  object        \n",
      " 1   call_date   202607 non-null  datetime64[ns]\n",
      " 2   duration    202607 non-null  float64       \n",
      " 3   user_id     202607 non-null  uint16        \n",
      " 4   call_id     202607 non-null  uint16        \n",
      " 5   call_month  202607 non-null  int64         \n",
      "dtypes: datetime64[ns](1), float64(1), int64(1), object(1), uint16(2)\n",
      "memory usage: 7.0+ MB\n"
     ]
    },
    {
     "data": {
      "text/plain": [
       "None"
      ]
     },
     "metadata": {},
     "output_type": "display_data"
    },
    {
     "data": {
      "text/html": [
       "<div>\n",
       "<style scoped>\n",
       "    .dataframe tbody tr th:only-of-type {\n",
       "        vertical-align: middle;\n",
       "    }\n",
       "\n",
       "    .dataframe tbody tr th {\n",
       "        vertical-align: top;\n",
       "    }\n",
       "\n",
       "    .dataframe thead th {\n",
       "        text-align: right;\n",
       "    }\n",
       "</style>\n",
       "<table border=\"1\" class=\"dataframe\">\n",
       "  <thead>\n",
       "    <tr style=\"text-align: right;\">\n",
       "      <th></th>\n",
       "      <th>duration</th>\n",
       "      <th>user_id</th>\n",
       "      <th>call_id</th>\n",
       "      <th>call_month</th>\n",
       "    </tr>\n",
       "  </thead>\n",
       "  <tbody>\n",
       "    <tr>\n",
       "      <th>count</th>\n",
       "      <td>202607.000000</td>\n",
       "      <td>202607.000000</td>\n",
       "      <td>202607.000000</td>\n",
       "      <td>202607.000000</td>\n",
       "    </tr>\n",
       "    <tr>\n",
       "      <th>mean</th>\n",
       "      <td>6.755887</td>\n",
       "      <td>1253.940619</td>\n",
       "      <td>308.577181</td>\n",
       "      <td>8.574067</td>\n",
       "    </tr>\n",
       "    <tr>\n",
       "      <th>std</th>\n",
       "      <td>5.843365</td>\n",
       "      <td>144.722751</td>\n",
       "      <td>259.948786</td>\n",
       "      <td>2.787093</td>\n",
       "    </tr>\n",
       "    <tr>\n",
       "      <th>min</th>\n",
       "      <td>0.000000</td>\n",
       "      <td>1000.000000</td>\n",
       "      <td>0.000000</td>\n",
       "      <td>1.000000</td>\n",
       "    </tr>\n",
       "    <tr>\n",
       "      <th>25%</th>\n",
       "      <td>1.300000</td>\n",
       "      <td>1126.000000</td>\n",
       "      <td>108.000000</td>\n",
       "      <td>7.000000</td>\n",
       "    </tr>\n",
       "    <tr>\n",
       "      <th>50%</th>\n",
       "      <td>6.000000</td>\n",
       "      <td>1260.000000</td>\n",
       "      <td>243.000000</td>\n",
       "      <td>9.000000</td>\n",
       "    </tr>\n",
       "    <tr>\n",
       "      <th>75%</th>\n",
       "      <td>10.700000</td>\n",
       "      <td>1379.000000</td>\n",
       "      <td>446.000000</td>\n",
       "      <td>11.000000</td>\n",
       "    </tr>\n",
       "    <tr>\n",
       "      <th>max</th>\n",
       "      <td>38.000000</td>\n",
       "      <td>1499.000000</td>\n",
       "      <td>1759.000000</td>\n",
       "      <td>12.000000</td>\n",
       "    </tr>\n",
       "  </tbody>\n",
       "</table>\n",
       "</div>"
      ],
      "text/plain": [
       "            duration        user_id        call_id     call_month\n",
       "count  202607.000000  202607.000000  202607.000000  202607.000000\n",
       "mean        6.755887    1253.940619     308.577181       8.574067\n",
       "std         5.843365     144.722751     259.948786       2.787093\n",
       "min         0.000000    1000.000000       0.000000       1.000000\n",
       "25%         1.300000    1126.000000     108.000000       7.000000\n",
       "50%         6.000000    1260.000000     243.000000       9.000000\n",
       "75%        10.700000    1379.000000     446.000000      11.000000\n",
       "max        38.000000    1499.000000    1759.000000      12.000000"
      ]
     },
     "metadata": {},
     "output_type": "display_data"
    },
    {
     "name": "stdout",
     "output_type": "stream",
     "text": [
      "описание датасета internet:\n",
      "__________________________\n"
     ]
    },
    {
     "data": {
      "text/html": [
       "<div>\n",
       "<style scoped>\n",
       "    .dataframe tbody tr th:only-of-type {\n",
       "        vertical-align: middle;\n",
       "    }\n",
       "\n",
       "    .dataframe tbody tr th {\n",
       "        vertical-align: top;\n",
       "    }\n",
       "\n",
       "    .dataframe thead th {\n",
       "        text-align: right;\n",
       "    }\n",
       "</style>\n",
       "<table border=\"1\" class=\"dataframe\">\n",
       "  <thead>\n",
       "    <tr style=\"text-align: right;\">\n",
       "      <th></th>\n",
       "      <th>Unnamed: 0</th>\n",
       "      <th>id</th>\n",
       "      <th>mb_used</th>\n",
       "      <th>session_date</th>\n",
       "      <th>user_id</th>\n",
       "      <th>internet_id</th>\n",
       "      <th>internet_month</th>\n",
       "    </tr>\n",
       "  </thead>\n",
       "  <tbody>\n",
       "    <tr>\n",
       "      <th>0</th>\n",
       "      <td>0</td>\n",
       "      <td>1000_0</td>\n",
       "      <td>112.95</td>\n",
       "      <td>2018-11-25</td>\n",
       "      <td>1000</td>\n",
       "      <td>0</td>\n",
       "      <td>11</td>\n",
       "    </tr>\n",
       "    <tr>\n",
       "      <th>1</th>\n",
       "      <td>1</td>\n",
       "      <td>1000_1</td>\n",
       "      <td>1052.81</td>\n",
       "      <td>2018-09-07</td>\n",
       "      <td>1000</td>\n",
       "      <td>1</td>\n",
       "      <td>9</td>\n",
       "    </tr>\n",
       "    <tr>\n",
       "      <th>2</th>\n",
       "      <td>2</td>\n",
       "      <td>1000_2</td>\n",
       "      <td>1197.26</td>\n",
       "      <td>2018-06-25</td>\n",
       "      <td>1000</td>\n",
       "      <td>2</td>\n",
       "      <td>6</td>\n",
       "    </tr>\n",
       "    <tr>\n",
       "      <th>3</th>\n",
       "      <td>3</td>\n",
       "      <td>1000_3</td>\n",
       "      <td>550.27</td>\n",
       "      <td>2018-08-22</td>\n",
       "      <td>1000</td>\n",
       "      <td>3</td>\n",
       "      <td>8</td>\n",
       "    </tr>\n",
       "    <tr>\n",
       "      <th>4</th>\n",
       "      <td>4</td>\n",
       "      <td>1000_4</td>\n",
       "      <td>302.56</td>\n",
       "      <td>2018-09-24</td>\n",
       "      <td>1000</td>\n",
       "      <td>4</td>\n",
       "      <td>9</td>\n",
       "    </tr>\n",
       "  </tbody>\n",
       "</table>\n",
       "</div>"
      ],
      "text/plain": [
       "   Unnamed: 0      id  mb_used session_date  user_id  internet_id  \\\n",
       "0           0  1000_0   112.95   2018-11-25     1000            0   \n",
       "1           1  1000_1  1052.81   2018-09-07     1000            1   \n",
       "2           2  1000_2  1197.26   2018-06-25     1000            2   \n",
       "3           3  1000_3   550.27   2018-08-22     1000            3   \n",
       "4           4  1000_4   302.56   2018-09-24     1000            4   \n",
       "\n",
       "   internet_month  \n",
       "0              11  \n",
       "1               9  \n",
       "2               6  \n",
       "3               8  \n",
       "4               9  "
      ]
     },
     "metadata": {},
     "output_type": "display_data"
    },
    {
     "name": "stdout",
     "output_type": "stream",
     "text": [
      "<class 'pandas.core.frame.DataFrame'>\n",
      "RangeIndex: 149396 entries, 0 to 149395\n",
      "Data columns (total 7 columns):\n",
      " #   Column          Non-Null Count   Dtype         \n",
      "---  ------          --------------   -----         \n",
      " 0   Unnamed: 0      149396 non-null  int64         \n",
      " 1   id              149396 non-null  object        \n",
      " 2   mb_used         149396 non-null  float64       \n",
      " 3   session_date    149396 non-null  datetime64[ns]\n",
      " 4   user_id         149396 non-null  uint16        \n",
      " 5   internet_id     149396 non-null  uint16        \n",
      " 6   internet_month  149396 non-null  int64         \n",
      "dtypes: datetime64[ns](1), float64(1), int64(2), object(1), uint16(2)\n",
      "memory usage: 6.3+ MB\n"
     ]
    },
    {
     "data": {
      "text/plain": [
       "None"
      ]
     },
     "metadata": {},
     "output_type": "display_data"
    },
    {
     "data": {
      "text/html": [
       "<div>\n",
       "<style scoped>\n",
       "    .dataframe tbody tr th:only-of-type {\n",
       "        vertical-align: middle;\n",
       "    }\n",
       "\n",
       "    .dataframe tbody tr th {\n",
       "        vertical-align: top;\n",
       "    }\n",
       "\n",
       "    .dataframe thead th {\n",
       "        text-align: right;\n",
       "    }\n",
       "</style>\n",
       "<table border=\"1\" class=\"dataframe\">\n",
       "  <thead>\n",
       "    <tr style=\"text-align: right;\">\n",
       "      <th></th>\n",
       "      <th>Unnamed: 0</th>\n",
       "      <th>mb_used</th>\n",
       "      <th>user_id</th>\n",
       "      <th>internet_id</th>\n",
       "      <th>internet_month</th>\n",
       "    </tr>\n",
       "  </thead>\n",
       "  <tbody>\n",
       "    <tr>\n",
       "      <th>count</th>\n",
       "      <td>149396.000000</td>\n",
       "      <td>149396.000000</td>\n",
       "      <td>149396.000000</td>\n",
       "      <td>149396.000000</td>\n",
       "      <td>149396.000000</td>\n",
       "    </tr>\n",
       "    <tr>\n",
       "      <th>mean</th>\n",
       "      <td>74697.500000</td>\n",
       "      <td>370.192426</td>\n",
       "      <td>1252.099842</td>\n",
       "      <td>205.811856</td>\n",
       "      <td>8.563315</td>\n",
       "    </tr>\n",
       "    <tr>\n",
       "      <th>std</th>\n",
       "      <td>43127.054745</td>\n",
       "      <td>278.300951</td>\n",
       "      <td>144.050823</td>\n",
       "      <td>157.267497</td>\n",
       "      <td>2.788717</td>\n",
       "    </tr>\n",
       "    <tr>\n",
       "      <th>min</th>\n",
       "      <td>0.000000</td>\n",
       "      <td>0.000000</td>\n",
       "      <td>1000.000000</td>\n",
       "      <td>0.000000</td>\n",
       "      <td>1.000000</td>\n",
       "    </tr>\n",
       "    <tr>\n",
       "      <th>25%</th>\n",
       "      <td>37348.750000</td>\n",
       "      <td>138.187500</td>\n",
       "      <td>1130.000000</td>\n",
       "      <td>78.000000</td>\n",
       "      <td>7.000000</td>\n",
       "    </tr>\n",
       "    <tr>\n",
       "      <th>50%</th>\n",
       "      <td>74697.500000</td>\n",
       "      <td>348.015000</td>\n",
       "      <td>1251.000000</td>\n",
       "      <td>172.000000</td>\n",
       "      <td>9.000000</td>\n",
       "    </tr>\n",
       "    <tr>\n",
       "      <th>75%</th>\n",
       "      <td>112046.250000</td>\n",
       "      <td>559.552500</td>\n",
       "      <td>1380.000000</td>\n",
       "      <td>302.000000</td>\n",
       "      <td>11.000000</td>\n",
       "    </tr>\n",
       "    <tr>\n",
       "      <th>max</th>\n",
       "      <td>149395.000000</td>\n",
       "      <td>1724.830000</td>\n",
       "      <td>1499.000000</td>\n",
       "      <td>833.000000</td>\n",
       "      <td>12.000000</td>\n",
       "    </tr>\n",
       "  </tbody>\n",
       "</table>\n",
       "</div>"
      ],
      "text/plain": [
       "          Unnamed: 0        mb_used        user_id    internet_id  \\\n",
       "count  149396.000000  149396.000000  149396.000000  149396.000000   \n",
       "mean    74697.500000     370.192426    1252.099842     205.811856   \n",
       "std     43127.054745     278.300951     144.050823     157.267497   \n",
       "min         0.000000       0.000000    1000.000000       0.000000   \n",
       "25%     37348.750000     138.187500    1130.000000      78.000000   \n",
       "50%     74697.500000     348.015000    1251.000000     172.000000   \n",
       "75%    112046.250000     559.552500    1380.000000     302.000000   \n",
       "max    149395.000000    1724.830000    1499.000000     833.000000   \n",
       "\n",
       "       internet_month  \n",
       "count   149396.000000  \n",
       "mean         8.563315  \n",
       "std          2.788717  \n",
       "min          1.000000  \n",
       "25%          7.000000  \n",
       "50%          9.000000  \n",
       "75%         11.000000  \n",
       "max         12.000000  "
      ]
     },
     "metadata": {},
     "output_type": "display_data"
    },
    {
     "name": "stdout",
     "output_type": "stream",
     "text": [
      "описание датасета messages:\n",
      "__________________________\n"
     ]
    },
    {
     "data": {
      "text/html": [
       "<div>\n",
       "<style scoped>\n",
       "    .dataframe tbody tr th:only-of-type {\n",
       "        vertical-align: middle;\n",
       "    }\n",
       "\n",
       "    .dataframe tbody tr th {\n",
       "        vertical-align: top;\n",
       "    }\n",
       "\n",
       "    .dataframe thead th {\n",
       "        text-align: right;\n",
       "    }\n",
       "</style>\n",
       "<table border=\"1\" class=\"dataframe\">\n",
       "  <thead>\n",
       "    <tr style=\"text-align: right;\">\n",
       "      <th></th>\n",
       "      <th>id</th>\n",
       "      <th>message_date</th>\n",
       "      <th>user_id</th>\n",
       "      <th>message_id</th>\n",
       "      <th>message_month</th>\n",
       "    </tr>\n",
       "  </thead>\n",
       "  <tbody>\n",
       "    <tr>\n",
       "      <th>0</th>\n",
       "      <td>1000_0</td>\n",
       "      <td>2018-06-27</td>\n",
       "      <td>1000</td>\n",
       "      <td>0</td>\n",
       "      <td>6</td>\n",
       "    </tr>\n",
       "    <tr>\n",
       "      <th>1</th>\n",
       "      <td>1000_1</td>\n",
       "      <td>2018-10-08</td>\n",
       "      <td>1000</td>\n",
       "      <td>1</td>\n",
       "      <td>10</td>\n",
       "    </tr>\n",
       "    <tr>\n",
       "      <th>2</th>\n",
       "      <td>1000_2</td>\n",
       "      <td>2018-08-04</td>\n",
       "      <td>1000</td>\n",
       "      <td>2</td>\n",
       "      <td>8</td>\n",
       "    </tr>\n",
       "    <tr>\n",
       "      <th>3</th>\n",
       "      <td>1000_3</td>\n",
       "      <td>2018-06-16</td>\n",
       "      <td>1000</td>\n",
       "      <td>3</td>\n",
       "      <td>6</td>\n",
       "    </tr>\n",
       "    <tr>\n",
       "      <th>4</th>\n",
       "      <td>1000_4</td>\n",
       "      <td>2018-12-05</td>\n",
       "      <td>1000</td>\n",
       "      <td>4</td>\n",
       "      <td>12</td>\n",
       "    </tr>\n",
       "  </tbody>\n",
       "</table>\n",
       "</div>"
      ],
      "text/plain": [
       "       id message_date  user_id  message_id  message_month\n",
       "0  1000_0   2018-06-27     1000           0              6\n",
       "1  1000_1   2018-10-08     1000           1             10\n",
       "2  1000_2   2018-08-04     1000           2              8\n",
       "3  1000_3   2018-06-16     1000           3              6\n",
       "4  1000_4   2018-12-05     1000           4             12"
      ]
     },
     "metadata": {},
     "output_type": "display_data"
    },
    {
     "name": "stdout",
     "output_type": "stream",
     "text": [
      "<class 'pandas.core.frame.DataFrame'>\n",
      "RangeIndex: 123036 entries, 0 to 123035\n",
      "Data columns (total 5 columns):\n",
      " #   Column         Non-Null Count   Dtype         \n",
      "---  ------         --------------   -----         \n",
      " 0   id             123036 non-null  object        \n",
      " 1   message_date   123036 non-null  datetime64[ns]\n",
      " 2   user_id        123036 non-null  uint16        \n",
      " 3   message_id     123036 non-null  uint16        \n",
      " 4   message_month  123036 non-null  int64         \n",
      "dtypes: datetime64[ns](1), int64(1), object(1), uint16(2)\n",
      "memory usage: 3.3+ MB\n"
     ]
    },
    {
     "data": {
      "text/plain": [
       "None"
      ]
     },
     "metadata": {},
     "output_type": "display_data"
    },
    {
     "data": {
      "text/html": [
       "<div>\n",
       "<style scoped>\n",
       "    .dataframe tbody tr th:only-of-type {\n",
       "        vertical-align: middle;\n",
       "    }\n",
       "\n",
       "    .dataframe tbody tr th {\n",
       "        vertical-align: top;\n",
       "    }\n",
       "\n",
       "    .dataframe thead th {\n",
       "        text-align: right;\n",
       "    }\n",
       "</style>\n",
       "<table border=\"1\" class=\"dataframe\">\n",
       "  <thead>\n",
       "    <tr style=\"text-align: right;\">\n",
       "      <th></th>\n",
       "      <th>user_id</th>\n",
       "      <th>message_id</th>\n",
       "      <th>message_month</th>\n",
       "    </tr>\n",
       "  </thead>\n",
       "  <tbody>\n",
       "    <tr>\n",
       "      <th>count</th>\n",
       "      <td>123036.000000</td>\n",
       "      <td>123036.000000</td>\n",
       "      <td>123036.000000</td>\n",
       "    </tr>\n",
       "    <tr>\n",
       "      <th>mean</th>\n",
       "      <td>1256.989410</td>\n",
       "      <td>267.595281</td>\n",
       "      <td>8.632262</td>\n",
       "    </tr>\n",
       "    <tr>\n",
       "      <th>std</th>\n",
       "      <td>143.523967</td>\n",
       "      <td>248.577464</td>\n",
       "      <td>2.747328</td>\n",
       "    </tr>\n",
       "    <tr>\n",
       "      <th>min</th>\n",
       "      <td>1000.000000</td>\n",
       "      <td>0.000000</td>\n",
       "      <td>1.000000</td>\n",
       "    </tr>\n",
       "    <tr>\n",
       "      <th>25%</th>\n",
       "      <td>1134.000000</td>\n",
       "      <td>81.000000</td>\n",
       "      <td>7.000000</td>\n",
       "    </tr>\n",
       "    <tr>\n",
       "      <th>50%</th>\n",
       "      <td>1271.000000</td>\n",
       "      <td>195.000000</td>\n",
       "      <td>9.000000</td>\n",
       "    </tr>\n",
       "    <tr>\n",
       "      <th>75%</th>\n",
       "      <td>1381.000000</td>\n",
       "      <td>379.000000</td>\n",
       "      <td>11.000000</td>\n",
       "    </tr>\n",
       "    <tr>\n",
       "      <th>max</th>\n",
       "      <td>1499.000000</td>\n",
       "      <td>1462.000000</td>\n",
       "      <td>12.000000</td>\n",
       "    </tr>\n",
       "  </tbody>\n",
       "</table>\n",
       "</div>"
      ],
      "text/plain": [
       "             user_id     message_id  message_month\n",
       "count  123036.000000  123036.000000  123036.000000\n",
       "mean     1256.989410     267.595281       8.632262\n",
       "std       143.523967     248.577464       2.747328\n",
       "min      1000.000000       0.000000       1.000000\n",
       "25%      1134.000000      81.000000       7.000000\n",
       "50%      1271.000000     195.000000       9.000000\n",
       "75%      1381.000000     379.000000      11.000000\n",
       "max      1499.000000    1462.000000      12.000000"
      ]
     },
     "metadata": {},
     "output_type": "display_data"
    },
    {
     "name": "stdout",
     "output_type": "stream",
     "text": [
      "описание датасета tariffs:\n",
      "__________________________\n"
     ]
    },
    {
     "data": {
      "text/html": [
       "<div>\n",
       "<style scoped>\n",
       "    .dataframe tbody tr th:only-of-type {\n",
       "        vertical-align: middle;\n",
       "    }\n",
       "\n",
       "    .dataframe tbody tr th {\n",
       "        vertical-align: top;\n",
       "    }\n",
       "\n",
       "    .dataframe thead th {\n",
       "        text-align: right;\n",
       "    }\n",
       "</style>\n",
       "<table border=\"1\" class=\"dataframe\">\n",
       "  <thead>\n",
       "    <tr style=\"text-align: right;\">\n",
       "      <th></th>\n",
       "      <th>messages_included</th>\n",
       "      <th>mb_per_month_included</th>\n",
       "      <th>minutes_included</th>\n",
       "      <th>rub_monthly_fee</th>\n",
       "      <th>rub_per_gb</th>\n",
       "      <th>rub_per_message</th>\n",
       "      <th>rub_per_minute</th>\n",
       "      <th>tariff_name</th>\n",
       "    </tr>\n",
       "  </thead>\n",
       "  <tbody>\n",
       "    <tr>\n",
       "      <th>0</th>\n",
       "      <td>50</td>\n",
       "      <td>15360</td>\n",
       "      <td>500</td>\n",
       "      <td>550</td>\n",
       "      <td>200</td>\n",
       "      <td>3</td>\n",
       "      <td>3</td>\n",
       "      <td>smart</td>\n",
       "    </tr>\n",
       "    <tr>\n",
       "      <th>1</th>\n",
       "      <td>1000</td>\n",
       "      <td>30720</td>\n",
       "      <td>3000</td>\n",
       "      <td>1950</td>\n",
       "      <td>150</td>\n",
       "      <td>1</td>\n",
       "      <td>1</td>\n",
       "      <td>ultra</td>\n",
       "    </tr>\n",
       "  </tbody>\n",
       "</table>\n",
       "</div>"
      ],
      "text/plain": [
       "   messages_included  mb_per_month_included  minutes_included  \\\n",
       "0                 50                  15360               500   \n",
       "1               1000                  30720              3000   \n",
       "\n",
       "   rub_monthly_fee  rub_per_gb  rub_per_message  rub_per_minute tariff_name  \n",
       "0              550         200                3               3       smart  \n",
       "1             1950         150                1               1       ultra  "
      ]
     },
     "metadata": {},
     "output_type": "display_data"
    },
    {
     "name": "stdout",
     "output_type": "stream",
     "text": [
      "<class 'pandas.core.frame.DataFrame'>\n",
      "RangeIndex: 2 entries, 0 to 1\n",
      "Data columns (total 8 columns):\n",
      " #   Column                 Non-Null Count  Dtype \n",
      "---  ------                 --------------  ----- \n",
      " 0   messages_included      2 non-null      uint16\n",
      " 1   mb_per_month_included  2 non-null      uint16\n",
      " 2   minutes_included       2 non-null      uint16\n",
      " 3   rub_monthly_fee        2 non-null      uint16\n",
      " 4   rub_per_gb             2 non-null      uint16\n",
      " 5   rub_per_message        2 non-null      uint16\n",
      " 6   rub_per_minute         2 non-null      uint16\n",
      " 7   tariff_name            2 non-null      object\n",
      "dtypes: object(1), uint16(7)\n",
      "memory usage: 172.0+ bytes\n"
     ]
    },
    {
     "data": {
      "text/plain": [
       "None"
      ]
     },
     "metadata": {},
     "output_type": "display_data"
    },
    {
     "data": {
      "text/html": [
       "<div>\n",
       "<style scoped>\n",
       "    .dataframe tbody tr th:only-of-type {\n",
       "        vertical-align: middle;\n",
       "    }\n",
       "\n",
       "    .dataframe tbody tr th {\n",
       "        vertical-align: top;\n",
       "    }\n",
       "\n",
       "    .dataframe thead th {\n",
       "        text-align: right;\n",
       "    }\n",
       "</style>\n",
       "<table border=\"1\" class=\"dataframe\">\n",
       "  <thead>\n",
       "    <tr style=\"text-align: right;\">\n",
       "      <th></th>\n",
       "      <th>messages_included</th>\n",
       "      <th>mb_per_month_included</th>\n",
       "      <th>minutes_included</th>\n",
       "      <th>rub_monthly_fee</th>\n",
       "      <th>rub_per_gb</th>\n",
       "      <th>rub_per_message</th>\n",
       "      <th>rub_per_minute</th>\n",
       "    </tr>\n",
       "  </thead>\n",
       "  <tbody>\n",
       "    <tr>\n",
       "      <th>count</th>\n",
       "      <td>2.000000</td>\n",
       "      <td>2.000000</td>\n",
       "      <td>2.000000</td>\n",
       "      <td>2.000000</td>\n",
       "      <td>2.000000</td>\n",
       "      <td>2.000000</td>\n",
       "      <td>2.000000</td>\n",
       "    </tr>\n",
       "    <tr>\n",
       "      <th>mean</th>\n",
       "      <td>525.000000</td>\n",
       "      <td>23040.000000</td>\n",
       "      <td>1750.000000</td>\n",
       "      <td>1250.000000</td>\n",
       "      <td>175.000000</td>\n",
       "      <td>2.000000</td>\n",
       "      <td>2.000000</td>\n",
       "    </tr>\n",
       "    <tr>\n",
       "      <th>std</th>\n",
       "      <td>671.751442</td>\n",
       "      <td>10861.160159</td>\n",
       "      <td>1767.766953</td>\n",
       "      <td>989.949494</td>\n",
       "      <td>35.355339</td>\n",
       "      <td>1.414214</td>\n",
       "      <td>1.414214</td>\n",
       "    </tr>\n",
       "    <tr>\n",
       "      <th>min</th>\n",
       "      <td>50.000000</td>\n",
       "      <td>15360.000000</td>\n",
       "      <td>500.000000</td>\n",
       "      <td>550.000000</td>\n",
       "      <td>150.000000</td>\n",
       "      <td>1.000000</td>\n",
       "      <td>1.000000</td>\n",
       "    </tr>\n",
       "    <tr>\n",
       "      <th>25%</th>\n",
       "      <td>287.500000</td>\n",
       "      <td>19200.000000</td>\n",
       "      <td>1125.000000</td>\n",
       "      <td>900.000000</td>\n",
       "      <td>162.500000</td>\n",
       "      <td>1.500000</td>\n",
       "      <td>1.500000</td>\n",
       "    </tr>\n",
       "    <tr>\n",
       "      <th>50%</th>\n",
       "      <td>525.000000</td>\n",
       "      <td>23040.000000</td>\n",
       "      <td>1750.000000</td>\n",
       "      <td>1250.000000</td>\n",
       "      <td>175.000000</td>\n",
       "      <td>2.000000</td>\n",
       "      <td>2.000000</td>\n",
       "    </tr>\n",
       "    <tr>\n",
       "      <th>75%</th>\n",
       "      <td>762.500000</td>\n",
       "      <td>26880.000000</td>\n",
       "      <td>2375.000000</td>\n",
       "      <td>1600.000000</td>\n",
       "      <td>187.500000</td>\n",
       "      <td>2.500000</td>\n",
       "      <td>2.500000</td>\n",
       "    </tr>\n",
       "    <tr>\n",
       "      <th>max</th>\n",
       "      <td>1000.000000</td>\n",
       "      <td>30720.000000</td>\n",
       "      <td>3000.000000</td>\n",
       "      <td>1950.000000</td>\n",
       "      <td>200.000000</td>\n",
       "      <td>3.000000</td>\n",
       "      <td>3.000000</td>\n",
       "    </tr>\n",
       "  </tbody>\n",
       "</table>\n",
       "</div>"
      ],
      "text/plain": [
       "       messages_included  mb_per_month_included  minutes_included  \\\n",
       "count           2.000000               2.000000          2.000000   \n",
       "mean          525.000000           23040.000000       1750.000000   \n",
       "std           671.751442           10861.160159       1767.766953   \n",
       "min            50.000000           15360.000000        500.000000   \n",
       "25%           287.500000           19200.000000       1125.000000   \n",
       "50%           525.000000           23040.000000       1750.000000   \n",
       "75%           762.500000           26880.000000       2375.000000   \n",
       "max          1000.000000           30720.000000       3000.000000   \n",
       "\n",
       "       rub_monthly_fee  rub_per_gb  rub_per_message  rub_per_minute  \n",
       "count         2.000000    2.000000         2.000000        2.000000  \n",
       "mean       1250.000000  175.000000         2.000000        2.000000  \n",
       "std         989.949494   35.355339         1.414214        1.414214  \n",
       "min         550.000000  150.000000         1.000000        1.000000  \n",
       "25%         900.000000  162.500000         1.500000        1.500000  \n",
       "50%        1250.000000  175.000000         2.000000        2.000000  \n",
       "75%        1600.000000  187.500000         2.500000        2.500000  \n",
       "max        1950.000000  200.000000         3.000000        3.000000  "
      ]
     },
     "metadata": {},
     "output_type": "display_data"
    },
    {
     "name": "stdout",
     "output_type": "stream",
     "text": [
      "описание датасета users:\n",
      "__________________________\n"
     ]
    },
    {
     "data": {
      "text/html": [
       "<div>\n",
       "<style scoped>\n",
       "    .dataframe tbody tr th:only-of-type {\n",
       "        vertical-align: middle;\n",
       "    }\n",
       "\n",
       "    .dataframe tbody tr th {\n",
       "        vertical-align: top;\n",
       "    }\n",
       "\n",
       "    .dataframe thead th {\n",
       "        text-align: right;\n",
       "    }\n",
       "</style>\n",
       "<table border=\"1\" class=\"dataframe\">\n",
       "  <thead>\n",
       "    <tr style=\"text-align: right;\">\n",
       "      <th></th>\n",
       "      <th>user_id</th>\n",
       "      <th>age</th>\n",
       "      <th>churn_date</th>\n",
       "      <th>city</th>\n",
       "      <th>first_name</th>\n",
       "      <th>last_name</th>\n",
       "      <th>reg_date</th>\n",
       "      <th>tariff</th>\n",
       "      <th>reg_month</th>\n",
       "    </tr>\n",
       "  </thead>\n",
       "  <tbody>\n",
       "    <tr>\n",
       "      <th>0</th>\n",
       "      <td>1000</td>\n",
       "      <td>52</td>\n",
       "      <td>NaT</td>\n",
       "      <td>Краснодар</td>\n",
       "      <td>Рафаил</td>\n",
       "      <td>Верещагин</td>\n",
       "      <td>2018-05-25</td>\n",
       "      <td>ultra</td>\n",
       "      <td>5</td>\n",
       "    </tr>\n",
       "    <tr>\n",
       "      <th>1</th>\n",
       "      <td>1001</td>\n",
       "      <td>41</td>\n",
       "      <td>NaT</td>\n",
       "      <td>Москва</td>\n",
       "      <td>Иван</td>\n",
       "      <td>Ежов</td>\n",
       "      <td>2018-11-01</td>\n",
       "      <td>smart</td>\n",
       "      <td>11</td>\n",
       "    </tr>\n",
       "    <tr>\n",
       "      <th>2</th>\n",
       "      <td>1002</td>\n",
       "      <td>59</td>\n",
       "      <td>NaT</td>\n",
       "      <td>Стерлитамак</td>\n",
       "      <td>Евгений</td>\n",
       "      <td>Абрамович</td>\n",
       "      <td>2018-06-17</td>\n",
       "      <td>smart</td>\n",
       "      <td>6</td>\n",
       "    </tr>\n",
       "    <tr>\n",
       "      <th>3</th>\n",
       "      <td>1003</td>\n",
       "      <td>23</td>\n",
       "      <td>NaT</td>\n",
       "      <td>Москва</td>\n",
       "      <td>Белла</td>\n",
       "      <td>Белякова</td>\n",
       "      <td>2018-08-17</td>\n",
       "      <td>ultra</td>\n",
       "      <td>8</td>\n",
       "    </tr>\n",
       "    <tr>\n",
       "      <th>4</th>\n",
       "      <td>1004</td>\n",
       "      <td>68</td>\n",
       "      <td>NaT</td>\n",
       "      <td>Новокузнецк</td>\n",
       "      <td>Татьяна</td>\n",
       "      <td>Авдеенко</td>\n",
       "      <td>2018-05-14</td>\n",
       "      <td>ultra</td>\n",
       "      <td>5</td>\n",
       "    </tr>\n",
       "  </tbody>\n",
       "</table>\n",
       "</div>"
      ],
      "text/plain": [
       "   user_id  age churn_date         city first_name  last_name   reg_date  \\\n",
       "0     1000   52        NaT    Краснодар     Рафаил  Верещагин 2018-05-25   \n",
       "1     1001   41        NaT       Москва       Иван       Ежов 2018-11-01   \n",
       "2     1002   59        NaT  Стерлитамак    Евгений  Абрамович 2018-06-17   \n",
       "3     1003   23        NaT       Москва      Белла   Белякова 2018-08-17   \n",
       "4     1004   68        NaT  Новокузнецк    Татьяна   Авдеенко 2018-05-14   \n",
       "\n",
       "  tariff  reg_month  \n",
       "0  ultra          5  \n",
       "1  smart         11  \n",
       "2  smart          6  \n",
       "3  ultra          8  \n",
       "4  ultra          5  "
      ]
     },
     "metadata": {},
     "output_type": "display_data"
    },
    {
     "name": "stdout",
     "output_type": "stream",
     "text": [
      "<class 'pandas.core.frame.DataFrame'>\n",
      "RangeIndex: 500 entries, 0 to 499\n",
      "Data columns (total 9 columns):\n",
      " #   Column      Non-Null Count  Dtype         \n",
      "---  ------      --------------  -----         \n",
      " 0   user_id     500 non-null    uint16        \n",
      " 1   age         500 non-null    uint8         \n",
      " 2   churn_date  38 non-null     datetime64[ns]\n",
      " 3   city        500 non-null    object        \n",
      " 4   first_name  500 non-null    object        \n",
      " 5   last_name   500 non-null    object        \n",
      " 6   reg_date    500 non-null    datetime64[ns]\n",
      " 7   tariff      500 non-null    object        \n",
      " 8   reg_month   500 non-null    int64         \n",
      "dtypes: datetime64[ns](2), int64(1), object(4), uint16(1), uint8(1)\n",
      "memory usage: 28.9+ KB\n"
     ]
    },
    {
     "data": {
      "text/plain": [
       "None"
      ]
     },
     "metadata": {},
     "output_type": "display_data"
    },
    {
     "data": {
      "text/html": [
       "<div>\n",
       "<style scoped>\n",
       "    .dataframe tbody tr th:only-of-type {\n",
       "        vertical-align: middle;\n",
       "    }\n",
       "\n",
       "    .dataframe tbody tr th {\n",
       "        vertical-align: top;\n",
       "    }\n",
       "\n",
       "    .dataframe thead th {\n",
       "        text-align: right;\n",
       "    }\n",
       "</style>\n",
       "<table border=\"1\" class=\"dataframe\">\n",
       "  <thead>\n",
       "    <tr style=\"text-align: right;\">\n",
       "      <th></th>\n",
       "      <th>user_id</th>\n",
       "      <th>age</th>\n",
       "      <th>reg_month</th>\n",
       "    </tr>\n",
       "  </thead>\n",
       "  <tbody>\n",
       "    <tr>\n",
       "      <th>count</th>\n",
       "      <td>500.000000</td>\n",
       "      <td>500.00000</td>\n",
       "      <td>500.000000</td>\n",
       "    </tr>\n",
       "    <tr>\n",
       "      <th>mean</th>\n",
       "      <td>1249.500000</td>\n",
       "      <td>46.58800</td>\n",
       "      <td>6.482000</td>\n",
       "    </tr>\n",
       "    <tr>\n",
       "      <th>std</th>\n",
       "      <td>144.481833</td>\n",
       "      <td>16.66763</td>\n",
       "      <td>3.394218</td>\n",
       "    </tr>\n",
       "    <tr>\n",
       "      <th>min</th>\n",
       "      <td>1000.000000</td>\n",
       "      <td>18.00000</td>\n",
       "      <td>1.000000</td>\n",
       "    </tr>\n",
       "    <tr>\n",
       "      <th>25%</th>\n",
       "      <td>1124.750000</td>\n",
       "      <td>32.00000</td>\n",
       "      <td>4.000000</td>\n",
       "    </tr>\n",
       "    <tr>\n",
       "      <th>50%</th>\n",
       "      <td>1249.500000</td>\n",
       "      <td>46.00000</td>\n",
       "      <td>7.000000</td>\n",
       "    </tr>\n",
       "    <tr>\n",
       "      <th>75%</th>\n",
       "      <td>1374.250000</td>\n",
       "      <td>62.00000</td>\n",
       "      <td>9.000000</td>\n",
       "    </tr>\n",
       "    <tr>\n",
       "      <th>max</th>\n",
       "      <td>1499.000000</td>\n",
       "      <td>75.00000</td>\n",
       "      <td>12.000000</td>\n",
       "    </tr>\n",
       "  </tbody>\n",
       "</table>\n",
       "</div>"
      ],
      "text/plain": [
       "           user_id        age   reg_month\n",
       "count   500.000000  500.00000  500.000000\n",
       "mean   1249.500000   46.58800    6.482000\n",
       "std     144.481833   16.66763    3.394218\n",
       "min    1000.000000   18.00000    1.000000\n",
       "25%    1124.750000   32.00000    4.000000\n",
       "50%    1249.500000   46.00000    7.000000\n",
       "75%    1374.250000   62.00000    9.000000\n",
       "max    1499.000000   75.00000   12.000000"
      ]
     },
     "metadata": {},
     "output_type": "display_data"
    }
   ],
   "source": [
    "df = {'calls':calls,'internet':internet,'messages':messages,'tariffs':tariffs,'users':users}\n",
    "for key,value in df.items():\n",
    "    print(f'описание датасета {key}:')\n",
    "    print('__________________________')\n",
    "    display(value.head(5))\n",
    "    display(value.info())\n",
    "    display(value.describe())"
   ]
  },
  {
   "cell_type": "markdown",
   "id": "9a6f0c7a",
   "metadata": {},
   "source": [
    "<a id='3'></a>\n",
    "# 3. Количество сделанных звонков и израсходованных минут разговора по месяцам"
   ]
  },
  {
   "cell_type": "code",
   "execution_count": 6,
   "id": "4d91fae3",
   "metadata": {},
   "outputs": [
    {
     "data": {
      "text/html": [
       "<div>\n",
       "<style scoped>\n",
       "    .dataframe tbody tr th:only-of-type {\n",
       "        vertical-align: middle;\n",
       "    }\n",
       "\n",
       "    .dataframe tbody tr th {\n",
       "        vertical-align: top;\n",
       "    }\n",
       "\n",
       "    .dataframe thead th {\n",
       "        text-align: right;\n",
       "    }\n",
       "</style>\n",
       "<table border=\"1\" class=\"dataframe\">\n",
       "  <thead>\n",
       "    <tr style=\"text-align: right;\">\n",
       "      <th></th>\n",
       "      <th>user_id</th>\n",
       "      <th>call_month</th>\n",
       "      <th>calls_count</th>\n",
       "      <th>minutes_spent</th>\n",
       "    </tr>\n",
       "  </thead>\n",
       "  <tbody>\n",
       "    <tr>\n",
       "      <th>0</th>\n",
       "      <td>1000</td>\n",
       "      <td>5</td>\n",
       "      <td>22</td>\n",
       "      <td>159.0</td>\n",
       "    </tr>\n",
       "    <tr>\n",
       "      <th>1</th>\n",
       "      <td>1000</td>\n",
       "      <td>6</td>\n",
       "      <td>43</td>\n",
       "      <td>172.0</td>\n",
       "    </tr>\n",
       "    <tr>\n",
       "      <th>2</th>\n",
       "      <td>1000</td>\n",
       "      <td>7</td>\n",
       "      <td>47</td>\n",
       "      <td>340.0</td>\n",
       "    </tr>\n",
       "    <tr>\n",
       "      <th>3</th>\n",
       "      <td>1000</td>\n",
       "      <td>8</td>\n",
       "      <td>52</td>\n",
       "      <td>408.0</td>\n",
       "    </tr>\n",
       "    <tr>\n",
       "      <th>4</th>\n",
       "      <td>1000</td>\n",
       "      <td>9</td>\n",
       "      <td>58</td>\n",
       "      <td>466.0</td>\n",
       "    </tr>\n",
       "    <tr>\n",
       "      <th>...</th>\n",
       "      <td>...</td>\n",
       "      <td>...</td>\n",
       "      <td>...</td>\n",
       "      <td>...</td>\n",
       "    </tr>\n",
       "    <tr>\n",
       "      <th>3169</th>\n",
       "      <td>1498</td>\n",
       "      <td>10</td>\n",
       "      <td>41</td>\n",
       "      <td>247.0</td>\n",
       "    </tr>\n",
       "    <tr>\n",
       "      <th>3170</th>\n",
       "      <td>1499</td>\n",
       "      <td>9</td>\n",
       "      <td>9</td>\n",
       "      <td>70.0</td>\n",
       "    </tr>\n",
       "    <tr>\n",
       "      <th>3171</th>\n",
       "      <td>1499</td>\n",
       "      <td>10</td>\n",
       "      <td>68</td>\n",
       "      <td>449.0</td>\n",
       "    </tr>\n",
       "    <tr>\n",
       "      <th>3172</th>\n",
       "      <td>1499</td>\n",
       "      <td>11</td>\n",
       "      <td>74</td>\n",
       "      <td>612.0</td>\n",
       "    </tr>\n",
       "    <tr>\n",
       "      <th>3173</th>\n",
       "      <td>1499</td>\n",
       "      <td>12</td>\n",
       "      <td>69</td>\n",
       "      <td>492.0</td>\n",
       "    </tr>\n",
       "  </tbody>\n",
       "</table>\n",
       "<p>3174 rows × 4 columns</p>\n",
       "</div>"
      ],
      "text/plain": [
       "      user_id  call_month  calls_count  minutes_spent\n",
       "0        1000           5           22          159.0\n",
       "1        1000           6           43          172.0\n",
       "2        1000           7           47          340.0\n",
       "3        1000           8           52          408.0\n",
       "4        1000           9           58          466.0\n",
       "...       ...         ...          ...            ...\n",
       "3169     1498          10           41          247.0\n",
       "3170     1499           9            9           70.0\n",
       "3171     1499          10           68          449.0\n",
       "3172     1499          11           74          612.0\n",
       "3173     1499          12           69          492.0\n",
       "\n",
       "[3174 rows x 4 columns]"
      ]
     },
     "execution_count": 6,
     "metadata": {},
     "output_type": "execute_result"
    }
   ],
   "source": [
    "calls['dur_round'] = np.ceil(calls['duration'])\n",
    "\n",
    "calls_grouped = calls.groupby(['user_id', 'call_month']).agg(\n",
    "    {'call_id':'count',\n",
    "     'dur_round': 'sum'    \n",
    "}).rename(columns = {'call_id':'calls_count',\n",
    "                    'dur_round':'minutes_spent'}).reset_index()\n",
    "\n",
    "calls_grouped"
   ]
  },
  {
   "cell_type": "markdown",
   "id": "fbedb301",
   "metadata": {},
   "source": [
    "<a id='4'></a>\n",
    "# 4. Количество отправленных сообщений по месяцам"
   ]
  },
  {
   "cell_type": "code",
   "execution_count": 7,
   "id": "4c7971f7",
   "metadata": {
    "scrolled": false
   },
   "outputs": [
    {
     "data": {
      "text/html": [
       "<div>\n",
       "<style scoped>\n",
       "    .dataframe tbody tr th:only-of-type {\n",
       "        vertical-align: middle;\n",
       "    }\n",
       "\n",
       "    .dataframe tbody tr th {\n",
       "        vertical-align: top;\n",
       "    }\n",
       "\n",
       "    .dataframe thead th {\n",
       "        text-align: right;\n",
       "    }\n",
       "</style>\n",
       "<table border=\"1\" class=\"dataframe\">\n",
       "  <thead>\n",
       "    <tr style=\"text-align: right;\">\n",
       "      <th></th>\n",
       "      <th>user_id</th>\n",
       "      <th>message_month</th>\n",
       "      <th>messages_count</th>\n",
       "    </tr>\n",
       "  </thead>\n",
       "  <tbody>\n",
       "    <tr>\n",
       "      <th>0</th>\n",
       "      <td>1000</td>\n",
       "      <td>5</td>\n",
       "      <td>22</td>\n",
       "    </tr>\n",
       "    <tr>\n",
       "      <th>1</th>\n",
       "      <td>1000</td>\n",
       "      <td>6</td>\n",
       "      <td>60</td>\n",
       "    </tr>\n",
       "    <tr>\n",
       "      <th>2</th>\n",
       "      <td>1000</td>\n",
       "      <td>7</td>\n",
       "      <td>75</td>\n",
       "    </tr>\n",
       "    <tr>\n",
       "      <th>3</th>\n",
       "      <td>1000</td>\n",
       "      <td>8</td>\n",
       "      <td>81</td>\n",
       "    </tr>\n",
       "    <tr>\n",
       "      <th>4</th>\n",
       "      <td>1000</td>\n",
       "      <td>9</td>\n",
       "      <td>57</td>\n",
       "    </tr>\n",
       "    <tr>\n",
       "      <th>...</th>\n",
       "      <td>...</td>\n",
       "      <td>...</td>\n",
       "      <td>...</td>\n",
       "    </tr>\n",
       "    <tr>\n",
       "      <th>2712</th>\n",
       "      <td>1498</td>\n",
       "      <td>10</td>\n",
       "      <td>42</td>\n",
       "    </tr>\n",
       "    <tr>\n",
       "      <th>2713</th>\n",
       "      <td>1499</td>\n",
       "      <td>9</td>\n",
       "      <td>11</td>\n",
       "    </tr>\n",
       "    <tr>\n",
       "      <th>2714</th>\n",
       "      <td>1499</td>\n",
       "      <td>10</td>\n",
       "      <td>48</td>\n",
       "    </tr>\n",
       "    <tr>\n",
       "      <th>2715</th>\n",
       "      <td>1499</td>\n",
       "      <td>11</td>\n",
       "      <td>59</td>\n",
       "    </tr>\n",
       "    <tr>\n",
       "      <th>2716</th>\n",
       "      <td>1499</td>\n",
       "      <td>12</td>\n",
       "      <td>66</td>\n",
       "    </tr>\n",
       "  </tbody>\n",
       "</table>\n",
       "<p>2717 rows × 3 columns</p>\n",
       "</div>"
      ],
      "text/plain": [
       "      user_id  message_month  messages_count\n",
       "0        1000              5              22\n",
       "1        1000              6              60\n",
       "2        1000              7              75\n",
       "3        1000              8              81\n",
       "4        1000              9              57\n",
       "...       ...            ...             ...\n",
       "2712     1498             10              42\n",
       "2713     1499              9              11\n",
       "2714     1499             10              48\n",
       "2715     1499             11              59\n",
       "2716     1499             12              66\n",
       "\n",
       "[2717 rows x 3 columns]"
      ]
     },
     "execution_count": 7,
     "metadata": {},
     "output_type": "execute_result"
    }
   ],
   "source": [
    "messages_grouped = messages.groupby(['user_id', 'message_month']).agg(\n",
    "    {'message_id':'count'    \n",
    "}).rename(columns = {'message_id':'messages_count'}).reset_index()\n",
    "\n",
    "messages_grouped"
   ]
  },
  {
   "cell_type": "markdown",
   "id": "38a5df6e",
   "metadata": {},
   "source": [
    "<a id='5'></a>\n",
    "# 5. Объем израсходованного интернет-трафика по месяцам"
   ]
  },
  {
   "cell_type": "code",
   "execution_count": 8,
   "id": "72d30c25",
   "metadata": {
    "scrolled": true
   },
   "outputs": [
    {
     "data": {
      "text/html": [
       "<div>\n",
       "<style scoped>\n",
       "    .dataframe tbody tr th:only-of-type {\n",
       "        vertical-align: middle;\n",
       "    }\n",
       "\n",
       "    .dataframe tbody tr th {\n",
       "        vertical-align: top;\n",
       "    }\n",
       "\n",
       "    .dataframe thead th {\n",
       "        text-align: right;\n",
       "    }\n",
       "</style>\n",
       "<table border=\"1\" class=\"dataframe\">\n",
       "  <thead>\n",
       "    <tr style=\"text-align: right;\">\n",
       "      <th></th>\n",
       "      <th>user_id</th>\n",
       "      <th>internet_month</th>\n",
       "      <th>mb_used</th>\n",
       "      <th>gb_used</th>\n",
       "    </tr>\n",
       "  </thead>\n",
       "  <tbody>\n",
       "    <tr>\n",
       "      <th>0</th>\n",
       "      <td>1000</td>\n",
       "      <td>5</td>\n",
       "      <td>2253.49</td>\n",
       "      <td>3.0</td>\n",
       "    </tr>\n",
       "    <tr>\n",
       "      <th>1</th>\n",
       "      <td>1000</td>\n",
       "      <td>6</td>\n",
       "      <td>23233.77</td>\n",
       "      <td>23.0</td>\n",
       "    </tr>\n",
       "    <tr>\n",
       "      <th>2</th>\n",
       "      <td>1000</td>\n",
       "      <td>7</td>\n",
       "      <td>14003.64</td>\n",
       "      <td>14.0</td>\n",
       "    </tr>\n",
       "    <tr>\n",
       "      <th>3</th>\n",
       "      <td>1000</td>\n",
       "      <td>8</td>\n",
       "      <td>14055.93</td>\n",
       "      <td>14.0</td>\n",
       "    </tr>\n",
       "    <tr>\n",
       "      <th>4</th>\n",
       "      <td>1000</td>\n",
       "      <td>9</td>\n",
       "      <td>14568.91</td>\n",
       "      <td>15.0</td>\n",
       "    </tr>\n",
       "    <tr>\n",
       "      <th>...</th>\n",
       "      <td>...</td>\n",
       "      <td>...</td>\n",
       "      <td>...</td>\n",
       "      <td>...</td>\n",
       "    </tr>\n",
       "    <tr>\n",
       "      <th>3198</th>\n",
       "      <td>1498</td>\n",
       "      <td>10</td>\n",
       "      <td>20579.36</td>\n",
       "      <td>21.0</td>\n",
       "    </tr>\n",
       "    <tr>\n",
       "      <th>3199</th>\n",
       "      <td>1499</td>\n",
       "      <td>9</td>\n",
       "      <td>1845.75</td>\n",
       "      <td>2.0</td>\n",
       "    </tr>\n",
       "    <tr>\n",
       "      <th>3200</th>\n",
       "      <td>1499</td>\n",
       "      <td>10</td>\n",
       "      <td>17788.51</td>\n",
       "      <td>18.0</td>\n",
       "    </tr>\n",
       "    <tr>\n",
       "      <th>3201</th>\n",
       "      <td>1499</td>\n",
       "      <td>11</td>\n",
       "      <td>17963.31</td>\n",
       "      <td>18.0</td>\n",
       "    </tr>\n",
       "    <tr>\n",
       "      <th>3202</th>\n",
       "      <td>1499</td>\n",
       "      <td>12</td>\n",
       "      <td>13055.58</td>\n",
       "      <td>13.0</td>\n",
       "    </tr>\n",
       "  </tbody>\n",
       "</table>\n",
       "<p>3203 rows × 4 columns</p>\n",
       "</div>"
      ],
      "text/plain": [
       "      user_id  internet_month   mb_used  gb_used\n",
       "0        1000               5   2253.49      3.0\n",
       "1        1000               6  23233.77     23.0\n",
       "2        1000               7  14003.64     14.0\n",
       "3        1000               8  14055.93     14.0\n",
       "4        1000               9  14568.91     15.0\n",
       "...       ...             ...       ...      ...\n",
       "3198     1498              10  20579.36     21.0\n",
       "3199     1499               9   1845.75      2.0\n",
       "3200     1499              10  17788.51     18.0\n",
       "3201     1499              11  17963.31     18.0\n",
       "3202     1499              12  13055.58     13.0\n",
       "\n",
       "[3203 rows x 4 columns]"
      ]
     },
     "execution_count": 8,
     "metadata": {},
     "output_type": "execute_result"
    }
   ],
   "source": [
    "internet_grouped = internet.groupby(['user_id', 'internet_month']).agg(\n",
    "    {'mb_used':'sum'    \n",
    "}).reset_index()\n",
    "internet_grouped['gb_used'] = internet_grouped['mb_used']/1024\n",
    "internet_grouped['gb_used'] = np.ceil(internet_grouped['gb_used'])\n",
    "\n",
    "internet_grouped"
   ]
  },
  {
   "cell_type": "markdown",
   "id": "8ff503f7",
   "metadata": {},
   "source": [
    "<a id='6'></a>\n",
    "# 6. Расчет помесячной выручки с каждого пользователя по месяцам."
   ]
  },
  {
   "cell_type": "code",
   "execution_count": 9,
   "id": "944c876c",
   "metadata": {
    "scrolled": true
   },
   "outputs": [
    {
     "data": {
      "text/plain": [
       "user_id                     0\n",
       "age                         0\n",
       "churn_date               2528\n",
       "city                        0\n",
       "first_name                  0\n",
       "last_name                   0\n",
       "reg_date                    0\n",
       "tariff                      0\n",
       "reg_month                   0\n",
       "call_month                  0\n",
       "calls_count                 0\n",
       "minutes_spent               0\n",
       "message_month               0\n",
       "messages_count              0\n",
       "internet_month              0\n",
       "mb_used                     0\n",
       "gb_used                     0\n",
       "messages_included           0\n",
       "mb_per_month_included       0\n",
       "minutes_included            0\n",
       "rub_monthly_fee             0\n",
       "rub_per_gb                  0\n",
       "rub_per_message             0\n",
       "rub_per_minute              0\n",
       "tariff_name                 0\n",
       "calls_over_limit            0\n",
       "internet_over_limit         0\n",
       "messages_over_limit         0\n",
       "revenue                     0\n",
       "dtype: int64"
      ]
     },
     "metadata": {},
     "output_type": "display_data"
    },
    {
     "data": {
      "text/html": [
       "<div>\n",
       "<style scoped>\n",
       "    .dataframe tbody tr th:only-of-type {\n",
       "        vertical-align: middle;\n",
       "    }\n",
       "\n",
       "    .dataframe tbody tr th {\n",
       "        vertical-align: top;\n",
       "    }\n",
       "\n",
       "    .dataframe thead th {\n",
       "        text-align: right;\n",
       "    }\n",
       "</style>\n",
       "<table border=\"1\" class=\"dataframe\">\n",
       "  <thead>\n",
       "    <tr style=\"text-align: right;\">\n",
       "      <th></th>\n",
       "      <th>user_id</th>\n",
       "      <th>age</th>\n",
       "      <th>churn_date</th>\n",
       "      <th>city</th>\n",
       "      <th>first_name</th>\n",
       "      <th>last_name</th>\n",
       "      <th>reg_date</th>\n",
       "      <th>tariff</th>\n",
       "      <th>reg_month</th>\n",
       "      <th>call_month</th>\n",
       "      <th>...</th>\n",
       "      <th>minutes_included</th>\n",
       "      <th>rub_monthly_fee</th>\n",
       "      <th>rub_per_gb</th>\n",
       "      <th>rub_per_message</th>\n",
       "      <th>rub_per_minute</th>\n",
       "      <th>tariff_name</th>\n",
       "      <th>calls_over_limit</th>\n",
       "      <th>internet_over_limit</th>\n",
       "      <th>messages_over_limit</th>\n",
       "      <th>revenue</th>\n",
       "    </tr>\n",
       "  </thead>\n",
       "  <tbody>\n",
       "    <tr>\n",
       "      <th>0</th>\n",
       "      <td>1000</td>\n",
       "      <td>52</td>\n",
       "      <td>NaT</td>\n",
       "      <td>Краснодар</td>\n",
       "      <td>Рафаил</td>\n",
       "      <td>Верещагин</td>\n",
       "      <td>2018-05-25</td>\n",
       "      <td>ultra</td>\n",
       "      <td>5</td>\n",
       "      <td>5</td>\n",
       "      <td>...</td>\n",
       "      <td>3000</td>\n",
       "      <td>1950</td>\n",
       "      <td>150</td>\n",
       "      <td>1</td>\n",
       "      <td>1</td>\n",
       "      <td>ultra</td>\n",
       "      <td>0.0</td>\n",
       "      <td>0.0</td>\n",
       "      <td>0</td>\n",
       "      <td>1950.0</td>\n",
       "    </tr>\n",
       "    <tr>\n",
       "      <th>1</th>\n",
       "      <td>1000</td>\n",
       "      <td>52</td>\n",
       "      <td>NaT</td>\n",
       "      <td>Краснодар</td>\n",
       "      <td>Рафаил</td>\n",
       "      <td>Верещагин</td>\n",
       "      <td>2018-05-25</td>\n",
       "      <td>ultra</td>\n",
       "      <td>5</td>\n",
       "      <td>6</td>\n",
       "      <td>...</td>\n",
       "      <td>3000</td>\n",
       "      <td>1950</td>\n",
       "      <td>150</td>\n",
       "      <td>1</td>\n",
       "      <td>1</td>\n",
       "      <td>ultra</td>\n",
       "      <td>0.0</td>\n",
       "      <td>0.0</td>\n",
       "      <td>0</td>\n",
       "      <td>1950.0</td>\n",
       "    </tr>\n",
       "    <tr>\n",
       "      <th>2</th>\n",
       "      <td>1000</td>\n",
       "      <td>52</td>\n",
       "      <td>NaT</td>\n",
       "      <td>Краснодар</td>\n",
       "      <td>Рафаил</td>\n",
       "      <td>Верещагин</td>\n",
       "      <td>2018-05-25</td>\n",
       "      <td>ultra</td>\n",
       "      <td>5</td>\n",
       "      <td>7</td>\n",
       "      <td>...</td>\n",
       "      <td>3000</td>\n",
       "      <td>1950</td>\n",
       "      <td>150</td>\n",
       "      <td>1</td>\n",
       "      <td>1</td>\n",
       "      <td>ultra</td>\n",
       "      <td>0.0</td>\n",
       "      <td>0.0</td>\n",
       "      <td>0</td>\n",
       "      <td>1950.0</td>\n",
       "    </tr>\n",
       "    <tr>\n",
       "      <th>3</th>\n",
       "      <td>1000</td>\n",
       "      <td>52</td>\n",
       "      <td>NaT</td>\n",
       "      <td>Краснодар</td>\n",
       "      <td>Рафаил</td>\n",
       "      <td>Верещагин</td>\n",
       "      <td>2018-05-25</td>\n",
       "      <td>ultra</td>\n",
       "      <td>5</td>\n",
       "      <td>8</td>\n",
       "      <td>...</td>\n",
       "      <td>3000</td>\n",
       "      <td>1950</td>\n",
       "      <td>150</td>\n",
       "      <td>1</td>\n",
       "      <td>1</td>\n",
       "      <td>ultra</td>\n",
       "      <td>0.0</td>\n",
       "      <td>0.0</td>\n",
       "      <td>0</td>\n",
       "      <td>1950.0</td>\n",
       "    </tr>\n",
       "    <tr>\n",
       "      <th>4</th>\n",
       "      <td>1000</td>\n",
       "      <td>52</td>\n",
       "      <td>NaT</td>\n",
       "      <td>Краснодар</td>\n",
       "      <td>Рафаил</td>\n",
       "      <td>Верещагин</td>\n",
       "      <td>2018-05-25</td>\n",
       "      <td>ultra</td>\n",
       "      <td>5</td>\n",
       "      <td>9</td>\n",
       "      <td>...</td>\n",
       "      <td>3000</td>\n",
       "      <td>1950</td>\n",
       "      <td>150</td>\n",
       "      <td>1</td>\n",
       "      <td>1</td>\n",
       "      <td>ultra</td>\n",
       "      <td>0.0</td>\n",
       "      <td>0.0</td>\n",
       "      <td>0</td>\n",
       "      <td>1950.0</td>\n",
       "    </tr>\n",
       "  </tbody>\n",
       "</table>\n",
       "<p>5 rows × 29 columns</p>\n",
       "</div>"
      ],
      "text/plain": [
       "   user_id  age churn_date       city first_name  last_name   reg_date tariff  \\\n",
       "0     1000   52        NaT  Краснодар     Рафаил  Верещагин 2018-05-25  ultra   \n",
       "1     1000   52        NaT  Краснодар     Рафаил  Верещагин 2018-05-25  ultra   \n",
       "2     1000   52        NaT  Краснодар     Рафаил  Верещагин 2018-05-25  ultra   \n",
       "3     1000   52        NaT  Краснодар     Рафаил  Верещагин 2018-05-25  ultra   \n",
       "4     1000   52        NaT  Краснодар     Рафаил  Верещагин 2018-05-25  ultra   \n",
       "\n",
       "   reg_month  call_month  ...  minutes_included  rub_monthly_fee  rub_per_gb  \\\n",
       "0          5           5  ...              3000             1950         150   \n",
       "1          5           6  ...              3000             1950         150   \n",
       "2          5           7  ...              3000             1950         150   \n",
       "3          5           8  ...              3000             1950         150   \n",
       "4          5           9  ...              3000             1950         150   \n",
       "\n",
       "   rub_per_message  rub_per_minute  tariff_name  calls_over_limit  \\\n",
       "0                1               1        ultra               0.0   \n",
       "1                1               1        ultra               0.0   \n",
       "2                1               1        ultra               0.0   \n",
       "3                1               1        ultra               0.0   \n",
       "4                1               1        ultra               0.0   \n",
       "\n",
       "   internet_over_limit  messages_over_limit  revenue  \n",
       "0                  0.0                    0   1950.0  \n",
       "1                  0.0                    0   1950.0  \n",
       "2                  0.0                    0   1950.0  \n",
       "3                  0.0                    0   1950.0  \n",
       "4                  0.0                    0   1950.0  \n",
       "\n",
       "[5 rows x 29 columns]"
      ]
     },
     "metadata": {},
     "output_type": "display_data"
    },
    {
     "name": "stdout",
     "output_type": "stream",
     "text": [
      "Пользователей в изначально предоставленной выборке: (500,)\n",
      "Пользователей из объединённой выборки (419,)\n"
     ]
    },
    {
     "data": {
      "text/html": [
       "<div>\n",
       "<style scoped>\n",
       "    .dataframe tbody tr th:only-of-type {\n",
       "        vertical-align: middle;\n",
       "    }\n",
       "\n",
       "    .dataframe tbody tr th {\n",
       "        vertical-align: top;\n",
       "    }\n",
       "\n",
       "    .dataframe thead th {\n",
       "        text-align: right;\n",
       "    }\n",
       "</style>\n",
       "<table border=\"1\" class=\"dataframe\">\n",
       "  <thead>\n",
       "    <tr style=\"text-align: right;\">\n",
       "      <th></th>\n",
       "      <th>user_id</th>\n",
       "      <th>age</th>\n",
       "      <th>churn_date</th>\n",
       "      <th>city</th>\n",
       "      <th>first_name</th>\n",
       "      <th>last_name</th>\n",
       "      <th>reg_date</th>\n",
       "      <th>tariff</th>\n",
       "      <th>reg_month</th>\n",
       "    </tr>\n",
       "  </thead>\n",
       "  <tbody>\n",
       "    <tr>\n",
       "      <th>1</th>\n",
       "      <td>1001</td>\n",
       "      <td>41</td>\n",
       "      <td>NaT</td>\n",
       "      <td>Москва</td>\n",
       "      <td>Иван</td>\n",
       "      <td>Ежов</td>\n",
       "      <td>2018-11-01</td>\n",
       "      <td>smart</td>\n",
       "      <td>11</td>\n",
       "    </tr>\n",
       "    <tr>\n",
       "      <th>6</th>\n",
       "      <td>1006</td>\n",
       "      <td>21</td>\n",
       "      <td>NaT</td>\n",
       "      <td>Ульяновск</td>\n",
       "      <td>Леонид</td>\n",
       "      <td>Ермолаев</td>\n",
       "      <td>2018-02-26</td>\n",
       "      <td>smart</td>\n",
       "      <td>2</td>\n",
       "    </tr>\n",
       "    <tr>\n",
       "      <th>10</th>\n",
       "      <td>1010</td>\n",
       "      <td>26</td>\n",
       "      <td>NaT</td>\n",
       "      <td>Тюмень</td>\n",
       "      <td>Эдуард</td>\n",
       "      <td>Кононов</td>\n",
       "      <td>2018-08-05</td>\n",
       "      <td>smart</td>\n",
       "      <td>8</td>\n",
       "    </tr>\n",
       "    <tr>\n",
       "      <th>17</th>\n",
       "      <td>1017</td>\n",
       "      <td>73</td>\n",
       "      <td>NaT</td>\n",
       "      <td>Краснодар</td>\n",
       "      <td>Мария</td>\n",
       "      <td>Аленникова</td>\n",
       "      <td>2018-05-22</td>\n",
       "      <td>smart</td>\n",
       "      <td>5</td>\n",
       "    </tr>\n",
       "    <tr>\n",
       "      <th>24</th>\n",
       "      <td>1024</td>\n",
       "      <td>73</td>\n",
       "      <td>NaT</td>\n",
       "      <td>Санкт-Петербург</td>\n",
       "      <td>Иулиан</td>\n",
       "      <td>Антипов</td>\n",
       "      <td>2018-10-31</td>\n",
       "      <td>ultra</td>\n",
       "      <td>10</td>\n",
       "    </tr>\n",
       "    <tr>\n",
       "      <th>...</th>\n",
       "      <td>...</td>\n",
       "      <td>...</td>\n",
       "      <td>...</td>\n",
       "      <td>...</td>\n",
       "      <td>...</td>\n",
       "      <td>...</td>\n",
       "      <td>...</td>\n",
       "      <td>...</td>\n",
       "      <td>...</td>\n",
       "    </tr>\n",
       "    <tr>\n",
       "      <th>469</th>\n",
       "      <td>1469</td>\n",
       "      <td>41</td>\n",
       "      <td>NaT</td>\n",
       "      <td>Сочи</td>\n",
       "      <td>Аксён</td>\n",
       "      <td>Абалкин</td>\n",
       "      <td>2018-07-06</td>\n",
       "      <td>ultra</td>\n",
       "      <td>7</td>\n",
       "    </tr>\n",
       "    <tr>\n",
       "      <th>473</th>\n",
       "      <td>1473</td>\n",
       "      <td>18</td>\n",
       "      <td>NaT</td>\n",
       "      <td>Красноярск</td>\n",
       "      <td>Николай</td>\n",
       "      <td>Лебедев</td>\n",
       "      <td>2018-08-05</td>\n",
       "      <td>ultra</td>\n",
       "      <td>8</td>\n",
       "    </tr>\n",
       "    <tr>\n",
       "      <th>479</th>\n",
       "      <td>1479</td>\n",
       "      <td>40</td>\n",
       "      <td>NaT</td>\n",
       "      <td>Хабаровск</td>\n",
       "      <td>Игорь</td>\n",
       "      <td>Богданов</td>\n",
       "      <td>2018-07-03</td>\n",
       "      <td>smart</td>\n",
       "      <td>7</td>\n",
       "    </tr>\n",
       "    <tr>\n",
       "      <th>489</th>\n",
       "      <td>1489</td>\n",
       "      <td>35</td>\n",
       "      <td>NaT</td>\n",
       "      <td>Санкт-Петербург</td>\n",
       "      <td>Павел</td>\n",
       "      <td>Гончаров</td>\n",
       "      <td>2018-08-15</td>\n",
       "      <td>smart</td>\n",
       "      <td>8</td>\n",
       "    </tr>\n",
       "    <tr>\n",
       "      <th>494</th>\n",
       "      <td>1494</td>\n",
       "      <td>62</td>\n",
       "      <td>NaT</td>\n",
       "      <td>Омск</td>\n",
       "      <td>Ренат</td>\n",
       "      <td>Андропов</td>\n",
       "      <td>2018-08-17</td>\n",
       "      <td>smart</td>\n",
       "      <td>8</td>\n",
       "    </tr>\n",
       "  </tbody>\n",
       "</table>\n",
       "<p>81 rows × 9 columns</p>\n",
       "</div>"
      ],
      "text/plain": [
       "     user_id  age churn_date             city first_name   last_name  \\\n",
       "1       1001   41        NaT           Москва       Иван        Ежов   \n",
       "6       1006   21        NaT        Ульяновск     Леонид    Ермолаев   \n",
       "10      1010   26        NaT           Тюмень     Эдуард     Кононов   \n",
       "17      1017   73        NaT        Краснодар      Мария  Аленникова   \n",
       "24      1024   73        NaT  Санкт-Петербург     Иулиан     Антипов   \n",
       "..       ...  ...        ...              ...        ...         ...   \n",
       "469     1469   41        NaT             Сочи      Аксён     Абалкин   \n",
       "473     1473   18        NaT       Красноярск    Николай     Лебедев   \n",
       "479     1479   40        NaT        Хабаровск      Игорь    Богданов   \n",
       "489     1489   35        NaT  Санкт-Петербург      Павел    Гончаров   \n",
       "494     1494   62        NaT             Омск      Ренат    Андропов   \n",
       "\n",
       "      reg_date tariff  reg_month  \n",
       "1   2018-11-01  smart         11  \n",
       "6   2018-02-26  smart          2  \n",
       "10  2018-08-05  smart          8  \n",
       "17  2018-05-22  smart          5  \n",
       "24  2018-10-31  ultra         10  \n",
       "..         ...    ...        ...  \n",
       "469 2018-07-06  ultra          7  \n",
       "473 2018-08-05  ultra          8  \n",
       "479 2018-07-03  smart          7  \n",
       "489 2018-08-15  smart          8  \n",
       "494 2018-08-17  smart          8  \n",
       "\n",
       "[81 rows x 9 columns]"
      ]
     },
     "execution_count": 9,
     "metadata": {},
     "output_type": "execute_result"
    }
   ],
   "source": [
    "users_data = users.merge(calls_grouped, how = 'inner', left_on=['user_id'], right_on=['user_id'])\n",
    "users_data = users_data.merge(messages_grouped, how = 'inner', left_on=['user_id','call_month'], right_on=['user_id','message_month'])\n",
    "users_data = users_data.merge(internet_grouped, how = 'inner', left_on=['user_id','call_month'], right_on=['user_id','internet_month'])\n",
    "users_data = users_data.merge(tariffs, how = 'inner', left_on=['tariff'], right_on=['tariff_name'])\n",
    "\n",
    "users_data['calls_over_limit'] = users_data['minutes_spent']-users_data['minutes_included']\n",
    "users_data.loc[users_data['calls_over_limit']<=0, ['calls_over_limit']] = 0\n",
    "users_data['calls_over_limit'].unique()\n",
    "\n",
    "users_data['internet_over_limit'] = np.ceil((users_data['mb_used']-users_data['mb_per_month_included'])/1024)\n",
    "users_data.loc[users_data['internet_over_limit']<=0,['internet_over_limit']] = 0\n",
    "\n",
    "users_data['messages_over_limit'] = users_data['messages_count']-users_data['messages_included']\n",
    "users_data.loc[users_data['messages_over_limit']<0,['messages_over_limit']] = 0\n",
    "\n",
    "users_data['revenue'] = users_data['calls_over_limit'] * users_data['rub_per_minute'] + users_data['messages_over_limit'] * users_data['rub_per_message'] + users_data['internet_over_limit'] * users_data['rub_per_gb']\n",
    "        \n",
    "users_data.loc[users_data['tariff'] == 'smart',['revenue']] +=550\n",
    "users_data.loc[users_data['tariff'] == 'ultra',['revenue']] +=1950\n",
    "\n",
    "display(users_data.isna().sum())\n",
    "\n",
    "display(users_data.head())\n",
    "users_data.revenue.describe()\n",
    "\n",
    "print(f'Пользователей в изначально предоставленной выборке: {users.user_id.unique().shape}')\n",
    "print(f'Пользователей из объединённой выборки {users_data.user_id.unique().shape}') \n",
    "\n",
    "users_absent = users[~(users['user_id'].isin(users_data['user_id'].unique()))]\n",
    "\n",
    "users_absent"
   ]
  },
  {
   "cell_type": "code",
   "execution_count": 10,
   "id": "370facb1",
   "metadata": {},
   "outputs": [
    {
     "data": {
      "text/plain": [
       "(419,)"
      ]
     },
     "execution_count": 10,
     "metadata": {},
     "output_type": "execute_result"
    }
   ],
   "source": [
    "# Количество уникальных ID пользователей\n",
    "users_data.user_id.unique().shape "
   ]
  },
  {
   "cell_type": "markdown",
   "id": "af107ae6",
   "metadata": {},
   "source": [
    "<a id='7'></a>\n",
    "# 7. Анализ полученных данных"
   ]
  },
  {
   "cell_type": "code",
   "execution_count": 11,
   "id": "5997efd8",
   "metadata": {},
   "outputs": [],
   "source": [
    "# Функция для вывода среднего, станд. отклонения, дисперсии + гистограммы\n",
    "def tariffs_comp(data_all,dimension):\n",
    "    data_smart = data_all.loc[data_all['tariff'] == 'smart']\n",
    "    data_ultra = data_all.loc[data_all['tariff'] == 'ultra']\n",
    "    print(f'Данные по {dimension}')\n",
    "    print('______________________')\n",
    "    print(f'Среднее набора данных по SMART :{round(data_smart[dimension].mean(),2)}')\n",
    "    print(f'Среднее набора данных по ULTRA : {round(data_ultra[dimension].mean(),2)}')\n",
    "    print(f'Медиана SMART : {round(data_smart[dimension].median(),2)}')\n",
    "    print(f'Медиана ULTRA : {round(data_ultra[dimension].median(),2)}')\n",
    "    print(f'Дисперсия набора данных SMART : {round(np.var(data_smart[dimension], ddof=1),2)}')\n",
    "    print(f'Дисперсия набора данных ULTRA : {round(np.var(data_ultra[dimension], ddof=1),2)}')\n",
    "    print(f'Стандартное отклонение SMART : {round(np.std(data_smart[dimension], ddof=1),2)}')\n",
    "    print(f'Стандартное отклонение ULTRA : {round(np.std(data_ultra[dimension], ddof=1),2)}')\n",
    "    \n",
    "    plt.hist(data_smart[dimension], bins=30, alpha=0.7, color = 'blue')\n",
    "    plt.hist(data_ultra[dimension], bins=30, alpha=0.7,color = 'orange')\n",
    "    plt.show()"
   ]
  },
  {
   "cell_type": "code",
   "execution_count": 12,
   "id": "4d7860ea",
   "metadata": {
    "scrolled": false
   },
   "outputs": [
    {
     "name": "stdout",
     "output_type": "stream",
     "text": [
      "Размер выборки SMART: 1915, на гистограммах - СИНЕГО цвета\n",
      "Размер выборки ULTRA: 752, на гистограммах - ОРАНЖЕВОГО цвета\n",
      "\n",
      "Данные по minutes_spent\n",
      "______________________\n",
      "Среднее набора данных по SMART :421.03\n",
      "Среднее набора данных по ULTRA : 556.86\n",
      "Медиана SMART : 427.0\n",
      "Медиана ULTRA : 537.5\n",
      "Дисперсия набора данных SMART : 35236.1\n",
      "Дисперсия набора данных ULTRA : 97258.41\n",
      "Стандартное отклонение SMART : 187.71\n",
      "Стандартное отклонение ULTRA : 311.86\n"
     ]
    },
    {
     "data": {
      "image/png": "[encoded data removed]",
      "text/plain": [
       "<Figure size 432x288 with 1 Axes>"
      ]
     },
     "metadata": {
      "needs_background": "light"
     },
     "output_type": "display_data"
    },
    {
     "name": "stdout",
     "output_type": "stream",
     "text": [
      "Данные по mb_used\n",
      "______________________\n",
      "Среднее набора данных по SMART :16245.24\n",
      "Среднее набора данных по ULTRA : 19596.35\n",
      "Медиана SMART : 16461.94\n",
      "Медиана ULTRA : 19442.29\n",
      "Дисперсия набора данных SMART : 33558954.55\n",
      "Дисперсия набора данных ULTRA : 92728051.39\n",
      "Стандартное отклонение SMART : 5793.01\n",
      "Стандартное отклонение ULTRA : 9629.54\n"
     ]
    },
    {
     "data": {
      "image/png": "[encoded data removed]",
      "text/plain": [
       "<Figure size 432x288 with 1 Axes>"
      ]
     },
     "metadata": {
      "needs_background": "light"
     },
     "output_type": "display_data"
    },
    {
     "name": "stdout",
     "output_type": "stream",
     "text": [
      "Данные по messages_count\n",
      "______________________\n",
      "Среднее набора данных по SMART :38.77\n",
      "Среднее набора данных по ULTRA : 61.64\n",
      "Медиана SMART : 34.0\n",
      "Медиана ULTRA : 53.0\n",
      "Дисперсия набора данных SMART : 718.8\n",
      "Дисперсия набора данных ULTRA : 2008.55\n",
      "Стандартное отклонение SMART : 26.81\n",
      "Стандартное отклонение ULTRA : 44.82\n"
     ]
    },
    {
     "data": {
      "image/png": "[encoded data removed]",
      "text/plain": [
       "<Figure size 432x288 with 1 Axes>"
      ]
     },
     "metadata": {
      "needs_background": "light"
     },
     "output_type": "display_data"
    },
    {
     "name": "stdout",
     "output_type": "stream",
     "text": [
      "Данные по revenue\n",
      "______________________\n",
      "Среднее набора данных по SMART :1290.68\n",
      "Среднее набора данных по ULTRA : 2048.94\n",
      "Медиана SMART : 1012.0\n",
      "Медиана ULTRA : 1950.0\n",
      "Дисперсия набора данных SMART : 677052.57\n",
      "Дисперсия набора данных ULTRA : 110817.77\n",
      "Стандартное отклонение SMART : 822.83\n",
      "Стандартное отклонение ULTRA : 332.89\n"
     ]
    },
    {
     "data": {
      "image/png": "[encoded data removed]",
      "text/plain": [
       "<Figure size 432x288 with 1 Axes>"
      ]
     },
     "metadata": {
      "needs_background": "light"
     },
     "output_type": "display_data"
    }
   ],
   "source": [
    "diction = {'minutes_spent':'minutes_spent','mb_used':'mb_used','messages_count':'messages_count','revenue':'revenue'}\n",
    "print(f\"Размер выборки SMART: {len(users_data.loc[users_data['tariff'] == 'smart'])}, на гистограммах - СИНЕГО цвета\")\n",
    "print(f\"Размер выборки ULTRA: {len(users_data.loc[users_data['tariff'] == 'ultra'])}, на гистограммах - ОРАНЖЕВОГО цвета\")\n",
    "print()\n",
    "for i in diction:\n",
    "    tariffs_comp(users_data,diction[i])"
   ]
  },
  {
   "cell_type": "markdown",
   "id": "c1c33cad",
   "metadata": {},
   "source": [
    "### Распределение потребляемых минут:\n",
    "* у пользоваталей тарифа \"SMART\" близко к нормальному\n",
    "* у пользоваталей тарифа \"ULTRA\" имеет большую дисперсию, распределение - стьюдента"
   ]
  },
  {
   "cell_type": "markdown",
   "id": "dffd8cc2",
   "metadata": {},
   "source": [
    "### Распределение испозьзуемого трафика:\n",
    "* у пользоваталей тарифа \"SMART\" близко к нормальному\n",
    "* у пользоваталей тарифа \"ULTRA\" имеет большую дисперсию, распределение - стьюдента"
   ]
  },
  {
   "cell_type": "markdown",
   "id": "97840770",
   "metadata": {},
   "source": [
    "### Распределение числа сообщений:\n",
    "* у пользоваталей обоих тарифов скошено вправо"
   ]
  },
  {
   "cell_type": "markdown",
   "id": "ef5010ed",
   "metadata": {},
   "source": [
    "<a id='8'></a>\n",
    "# 8. Проверка гипотез."
   ]
  },
  {
   "cell_type": "markdown",
   "id": "c2c5205b",
   "metadata": {},
   "source": [
    "## Проверка предположения, что средняя выручка пользователей тарифов «Ультра» и «Смарт» различаются.\n",
    "* Гипозеза Ho - средняя выручка на тарифах одинакова\n",
    "* Гипозеза H1 - средняя выручка различается\n",
    "* Критический уровень стат. значимости примем в 5%"
   ]
  },
  {
   "cell_type": "code",
   "execution_count": 13,
   "id": "245bf87b",
   "metadata": {},
   "outputs": [
    {
     "name": "stdout",
     "output_type": "stream",
     "text": [
      "p-значение: [1.61114231e-209]\n",
      "Отвергаем нулевую гипотезу о равенстве выручки: средняя выручка пользователей тарфиов Смарт и Ультра отличаются\n"
     ]
    }
   ],
   "source": [
    "alpha = .05 # критический уровень статистической значимости\n",
    "\n",
    "results = st.ttest_ind(\n",
    "    users_data.loc[users_data['tariff'] == 'ultra',['revenue']],\n",
    "    users_data.loc[users_data['tariff'] == 'smart',['revenue']],\n",
    "    equal_var = False) \n",
    "\n",
    "print('p-значение:', results.pvalue)\n",
    "\n",
    "if results.pvalue < alpha:\n",
    "    print(\"Отвергаем нулевую гипотезу о равенстве выручки: средняя выручка пользователей тарфиов Смарт и Ультра отличаются\")\n",
    "else:\n",
    "    print(\"Не получилось отвергнуть нулевую гипотезу о равенстве выручки: средняя выручка пользователей тарфиов Смарт и Ультра одинаковы\")"
   ]
  },
  {
   "cell_type": "markdown",
   "id": "d88835c1",
   "metadata": {},
   "source": [
    "## Проверка отличия средней выручки пользователей из Москвы от выручки пользователей из других регионов.\n",
    "* Гипозеза Ho - средние выручки в Москве и регионах равны\n",
    "* Гипозеза H1 - средняя выручка различается\n",
    "* Критический уровень стат. значимости примем в 5%"
   ]
  },
  {
   "cell_type": "code",
   "execution_count": 14,
   "id": "ebe1021e",
   "metadata": {
    "scrolled": true
   },
   "outputs": [
    {
     "name": "stdout",
     "output_type": "stream",
     "text": [
      "p-значение: [0.11142596]\n",
      "Не получилось отвергнуть нулевую гипотезу о равенстве выручки: средняя выручка пользователей из Москвы НЕ отличается от выручки пользователей из других регионов.\n"
     ]
    }
   ],
   "source": [
    "alpha = .05 # критический уровень статистической значимости\n",
    "\n",
    "results = st.ttest_ind(\n",
    "    users_data.loc[users_data['city'] == 'Москва',['revenue']],\n",
    "    users_data.loc[~(users_data['city'] == 'Москва'),['revenue']],\n",
    "    equal_var = False) \n",
    "\n",
    "print('p-значение:', results.pvalue)\n",
    "\n",
    "if results.pvalue < alpha:\n",
    "    print(\"Отвергаем нулевую гипотезу о равенстве выручки: средняя выручка пользователей из Москвы отличается от выручки пользователей из других регионов.\")\n",
    "else:\n",
    "    print(\"Не получилось отвергнуть нулевую гипотезу о равенстве выручки: средняя выручка пользователей из Москвы НЕ отличается от выручки пользователей из других регионов.\")"
   ]
  },
  {
   "cell_type": "markdown",
   "id": "b5856168",
   "metadata": {},
   "source": [
    "#### Из гистограмм ниже видно, что распределения пользователей по МСК и регионам внутри тарифов практичеси не отличаются. Отличия только в размерах выборок по регионам и Москве"
   ]
  },
  {
   "cell_type": "code",
   "execution_count": 15,
   "id": "406c8435",
   "metadata": {
    "scrolled": false
   },
   "outputs": [
    {
     "name": "stdout",
     "output_type": "stream",
     "text": [
      "Размер выборки по Москве: 491\n",
      "Размер выборки по регионам: 2176\n"
     ]
    },
    {
     "data": {
      "image/png": "[encoded data removed]",
      "text/plain": [
       "<Figure size 864x360 with 1 Axes>"
      ]
     },
     "metadata": {
      "needs_background": "light"
     },
     "output_type": "display_data"
    },
    {
     "data": {
      "text/plain": [
       "<Figure size 1440x1440 with 0 Axes>"
      ]
     },
     "metadata": {},
     "output_type": "display_data"
    }
   ],
   "source": [
    "print(f\"Размер выборки по Москве: {len(users_data.loc[users_data['city'] == 'Москва'])}\")\n",
    "print(f\"Размер выборки по регионам: {len(users_data.loc[~(users_data['city'] == 'Москва')])}\")\n",
    "\n",
    "M_S = users_data[(users_data['tariff'] == 'smart') & (users_data['city'] == 'Москва')]['revenue']\n",
    "M_U = users_data[(users_data['tariff'] == 'ultra') & (users_data['city'] == 'Москва')]['revenue']\n",
    "R_S = users_data[(users_data['tariff'] == 'smart') & ~(users_data['city'] == 'Москва')]['revenue']\n",
    "R_U = users_data[(users_data['tariff'] == 'ultra') & ~(users_data['city'] == 'Москва')]['revenue']\n",
    "\n",
    "plt.figure(figsize=(12, 5))\n",
    "\n",
    "plt.hist(M_S,bins=30, alpha=0.3, color = 'green', label='Москва, Смарт' )\n",
    "plt.hist(M_U,bins=30, alpha=0.3, color = 'blue', label='Москва, Ультра' )\n",
    "plt.hist(R_S,bins=30, alpha=0.3, color = 'orange', label='Регионы, Смарт' )\n",
    "plt.hist(R_U,bins=30, alpha=0.3, color = 'red', label='Регионы, Ультра' )\n",
    "\n",
    "plt.figure(figsize=(20, 20))\n",
    "plt.show()"
   ]
  },
  {
   "cell_type": "markdown",
   "id": "88a70fb5",
   "metadata": {},
   "source": [
    "## График динамики выручки по месяцам в разрезе тарифов."
   ]
  },
  {
   "cell_type": "code",
   "execution_count": 16,
   "id": "1bb2f4b6",
   "metadata": {},
   "outputs": [
    {
     "data": {
      "image/png": "[encoded data removed]",
      "text/plain": [
       "<Figure size 432x288 with 1 Axes>"
      ]
     },
     "metadata": {
      "needs_background": "light"
     },
     "output_type": "display_data"
    },
    {
     "data": {
      "image/png": "[encoded data removed]",
      "text/plain": [
       "<Figure size 432x288 with 1 Axes>"
      ]
     },
     "metadata": {
      "needs_background": "light"
     },
     "output_type": "display_data"
    },
    {
     "data": {
      "image/png": "[encoded data removed]",
      "text/plain": [
       "<Figure size 432x288 with 1 Axes>"
      ]
     },
     "metadata": {
      "needs_background": "light"
     },
     "output_type": "display_data"
    }
   ],
   "source": [
    "users_pivot = pd.pivot_table(users_data, columns = 'tariff', index = 'call_month', values = ['revenue','user_id'], aggfunc = {'revenue':'sum','user_id':'count'}).reset_index()\n",
    "users_pivot = users_pivot.set_index('call_month')\n",
    "users_pivot\n",
    "\n",
    "users_pivot['revenue'].plot()\n",
    "plt.title('Revenue')\n",
    "plt.show()\n",
    "users_pivot['user_id'].plot()\n",
    "plt.title('Количество пользователей')\n",
    "plt.show()\n",
    "\n",
    "rel_revenue = users_pivot['revenue'] / users_pivot['user_id']\n",
    "rel_revenue.plot()\n",
    "plt.title('Выручка с одного пользователя')\n",
    "plt.show()"
   ]
  },
  {
   "cell_type": "code",
   "execution_count": 17,
   "id": "47fc801f",
   "metadata": {},
   "outputs": [
    {
     "data": {
      "text/plain": [
       "Text(0, 0.5, 'Рубли')"
      ]
     },
     "execution_count": 17,
     "metadata": {},
     "output_type": "execute_result"
    },
    {
     "data": {
      "image/png": "[encoded data removed]",
      "text/plain": [
       "<Figure size 432x288 with 1 Axes>"
      ]
     },
     "metadata": {
      "needs_background": "light"
     },
     "output_type": "display_data"
    }
   ],
   "source": [
    "users_data.pivot_table(index='tariff', columns='call_month', values='revenue', aggfunc='mean').T.plot(kind='bar', alpha=0.5)\n",
    "plt.title('Средняя ежемесячная выручка по 2-м тарифам за год'+ \"\\n\")\n",
    "plt.xlabel('Месяц')\n",
    "plt.ylabel('Рубли')"
   ]
  },
  {
   "cell_type": "markdown",
   "id": "768b40c0",
   "metadata": {},
   "source": [
    "<a id='9'></a>\n",
    "# 9. Выводы"
   ]
  },
  {
   "cell_type": "markdown",
   "id": "3fcbcec7",
   "metadata": {},
   "source": [
    "Обнаружено, что в течение года выручка по тарифу Смарт растет быстрее Ультра."
   ]
  },
  {
   "cell_type": "code",
   "execution_count": 18,
   "id": "f74d1407",
   "metadata": {},
   "outputs": [
    {
     "name": "stdout",
     "output_type": "stream",
     "text": [
      "По представленной выборке доход от абонентов SMART составляет revenue    0.615995\n",
      "dtype: float64 от общего.\n",
      "При этом доля абонентов SMART среди выборки составляет revenue    0.718035\n",
      "dtype: float64 от всех.\n"
     ]
    }
   ],
   "source": [
    "smart_users_part = users_data.loc[users_data['tariff'] == 'smart',['revenue']].count()/users_data['revenue'].count()\n",
    "smart_revenue_part = users_data.loc[users_data['tariff'] == 'smart',['revenue']].sum()/users_data['revenue'].sum()\n",
    "print(f'По представленной выборке доход от абонентов SMART составляет {smart_revenue_part} от общего.')\n",
    "print(f'При этом доля абонентов SMART среди выборки составляет {smart_users_part} от всех.')"
   ]
  },
  {
   "cell_type": "markdown",
   "id": "d4950176",
   "metadata": {},
   "source": [
    "> Среднее \"revenue\" для SMART = 1290.68р./мес.\n",
    "> Доля абонентов 71,8%, доля выручки 61,6%\n",
    "* Звонки  421.03\n",
    "* интернет 16245.24\n",
    "* сообщения 38.77\n",
    "\n",
    "> Среднее \"revenue\" для ULTRA = 2048.94./мес.\n",
    "> Доля абонентов 28,2%, доля выручки 38,4%\n",
    "* Звонки 556,86\n",
    "* интернет 19596,35\n",
    "* сообщения 61,64"
   ]
  },
  {
   "cell_type": "markdown",
   "id": "e8a75943",
   "metadata": {},
   "source": [
    "### Статистически подтверждены гипотезы, что:\n",
    "* доход от пользователя ULTRA в среднем больше, чем от SMART\n",
    "* доход не разнится между московскими и остальными пользователями\n",
    "\n",
    "REVENUE по обоим тарифам растёт в разрезе месяцев, но рост SMART больше в связи с большим ростом числа пользователей.\n",
    "Объём рынка для SMART больше, поэтому вложение в рост базы SMART принесет больше прибыли.\n",
    "\n",
    "На данный момент ULTRA при revenue большем на 58,7% они потребляют лишь на 32% больше звонков, 20,6% больше интернета и на 59% больше СМС."
   ]
  }
 ],
 "metadata": {
  "ExecuteTimeLog": [
   {
    "duration": 846,
    "start_time": "2022-08-02T22:31:58.570Z"
   },
   {
    "duration": 120,
    "start_time": "2022-08-02T22:31:59.418Z"
   },
   {
    "duration": 0,
    "start_time": "2022-08-02T22:31:59.542Z"
   },
   {
    "duration": 0,
    "start_time": "2022-08-02T22:31:59.543Z"
   },
   {
    "duration": 1,
    "start_time": "2022-08-02T22:31:59.543Z"
   },
   {
    "duration": 0,
    "start_time": "2022-08-02T22:31:59.544Z"
   },
   {
    "duration": 0,
    "start_time": "2022-08-02T22:31:59.545Z"
   },
   {
    "duration": 0,
    "start_time": "2022-08-02T22:31:59.546Z"
   },
   {
    "duration": 0,
    "start_time": "2022-08-02T22:31:59.547Z"
   },
   {
    "duration": 0,
    "start_time": "2022-08-02T22:31:59.548Z"
   },
   {
    "duration": 0,
    "start_time": "2022-08-02T22:31:59.549Z"
   },
   {
    "duration": 0,
    "start_time": "2022-08-02T22:31:59.550Z"
   },
   {
    "duration": 0,
    "start_time": "2022-08-02T22:31:59.551Z"
   },
   {
    "duration": 0,
    "start_time": "2022-08-02T22:31:59.551Z"
   },
   {
    "duration": 0,
    "start_time": "2022-08-02T22:31:59.552Z"
   },
   {
    "duration": 797,
    "start_time": "2022-08-03T18:33:35.458Z"
   },
   {
    "duration": 1316,
    "start_time": "2022-08-03T18:33:36.257Z"
   },
   {
    "duration": 272,
    "start_time": "2022-08-03T18:33:37.577Z"
   },
   {
    "duration": 3526,
    "start_time": "2022-08-03T18:33:37.852Z"
   },
   {
    "duration": 287,
    "start_time": "2022-08-03T18:33:41.380Z"
   },
   {
    "duration": 62,
    "start_time": "2022-08-03T18:33:41.669Z"
   },
   {
    "duration": 19,
    "start_time": "2022-08-03T18:33:41.733Z"
   },
   {
    "duration": 26,
    "start_time": "2022-08-03T18:33:41.754Z"
   },
   {
    "duration": 84,
    "start_time": "2022-08-03T18:33:41.804Z"
   },
   {
    "duration": 18,
    "start_time": "2022-08-03T18:33:41.890Z"
   },
   {
    "duration": 1362,
    "start_time": "2022-08-03T18:33:41.921Z"
   },
   {
    "duration": 837,
    "start_time": "2022-08-03T18:33:43.285Z"
   },
   {
    "duration": 10,
    "start_time": "2022-08-03T18:33:44.129Z"
   },
   {
    "duration": 4,
    "start_time": "2022-08-03T18:33:44.141Z"
   },
   {
    "duration": 9,
    "start_time": "2022-08-03T18:33:44.147Z"
   },
   {
    "duration": 11,
    "start_time": "2022-08-03T18:52:23.827Z"
   },
   {
    "duration": 4,
    "start_time": "2022-08-03T18:53:31.136Z"
   },
   {
    "duration": 15,
    "start_time": "2022-08-03T18:53:44.131Z"
   },
   {
    "duration": 858,
    "start_time": "2022-08-04T13:42:07.023Z"
   },
   {
    "duration": 424,
    "start_time": "2022-08-04T13:42:07.883Z"
   },
   {
    "duration": 256,
    "start_time": "2022-08-04T13:42:08.309Z"
   },
   {
    "duration": 3129,
    "start_time": "2022-08-04T13:42:08.566Z"
   },
   {
    "duration": 255,
    "start_time": "2022-08-04T13:42:11.697Z"
   },
   {
    "duration": 50,
    "start_time": "2022-08-04T13:42:11.954Z"
   },
   {
    "duration": 19,
    "start_time": "2022-08-04T13:42:12.005Z"
   },
   {
    "duration": 25,
    "start_time": "2022-08-04T13:42:12.026Z"
   },
   {
    "duration": 89,
    "start_time": "2022-08-04T13:42:12.053Z"
   },
   {
    "duration": 3,
    "start_time": "2022-08-04T13:42:12.144Z"
   },
   {
    "duration": 1118,
    "start_time": "2022-08-04T13:42:12.149Z"
   },
   {
    "duration": 815,
    "start_time": "2022-08-04T13:42:13.269Z"
   },
   {
    "duration": 22,
    "start_time": "2022-08-04T13:42:14.086Z"
   },
   {
    "duration": 10,
    "start_time": "2022-08-04T13:42:14.110Z"
   },
   {
    "duration": 11,
    "start_time": "2022-08-04T13:42:14.122Z"
   },
   {
    "duration": 13,
    "start_time": "2022-08-04T13:42:14.134Z"
   },
   {
    "duration": 6,
    "start_time": "2022-08-04T13:52:19.175Z"
   },
   {
    "duration": 881,
    "start_time": "2022-08-04T13:52:51.888Z"
   },
   {
    "duration": 476,
    "start_time": "2022-08-04T13:52:52.771Z"
   },
   {
    "duration": 283,
    "start_time": "2022-08-04T13:52:53.249Z"
   },
   {
    "duration": 3158,
    "start_time": "2022-08-04T13:52:53.534Z"
   },
   {
    "duration": 263,
    "start_time": "2022-08-04T13:52:56.702Z"
   },
   {
    "duration": 59,
    "start_time": "2022-08-04T13:52:56.967Z"
   },
   {
    "duration": 20,
    "start_time": "2022-08-04T13:52:57.028Z"
   },
   {
    "duration": 26,
    "start_time": "2022-08-04T13:52:57.049Z"
   },
   {
    "duration": 92,
    "start_time": "2022-08-04T13:52:57.077Z"
   },
   {
    "duration": 5,
    "start_time": "2022-08-04T13:52:57.171Z"
   },
   {
    "duration": 25,
    "start_time": "2022-08-04T13:52:57.178Z"
   },
   {
    "duration": 1176,
    "start_time": "2022-08-04T13:52:57.204Z"
   },
   {
    "duration": 898,
    "start_time": "2022-08-04T13:52:58.382Z"
   },
   {
    "duration": 23,
    "start_time": "2022-08-04T13:52:59.282Z"
   },
   {
    "duration": 12,
    "start_time": "2022-08-04T13:52:59.307Z"
   },
   {
    "duration": 15,
    "start_time": "2022-08-04T13:52:59.322Z"
   },
   {
    "duration": 14,
    "start_time": "2022-08-04T13:52:59.339Z"
   },
   {
    "duration": 15,
    "start_time": "2022-08-04T13:55:12.782Z"
   },
   {
    "duration": 58,
    "start_time": "2022-08-04T16:06:19.074Z"
   },
   {
    "duration": 815,
    "start_time": "2022-08-04T16:06:32.628Z"
   },
   {
    "duration": 997,
    "start_time": "2022-08-04T16:06:34.945Z"
   },
   {
    "duration": 431,
    "start_time": "2022-08-04T16:06:38.424Z"
   },
   {
    "duration": 430,
    "start_time": "2022-08-04T16:07:13.896Z"
   },
   {
    "duration": 141,
    "start_time": "2022-08-04T16:16:05.060Z"
   },
   {
    "duration": 112,
    "start_time": "2022-08-04T16:16:27.330Z"
   },
   {
    "duration": 1964,
    "start_time": "2022-08-04T16:17:24.567Z"
   },
   {
    "duration": 842,
    "start_time": "2022-08-04T16:17:51.628Z"
   },
   {
    "duration": 828,
    "start_time": "2022-08-04T16:18:46.538Z"
   },
   {
    "duration": 929,
    "start_time": "2022-08-04T16:21:36.697Z"
   },
   {
    "duration": 841,
    "start_time": "2022-08-04T16:23:33.488Z"
   },
   {
    "duration": 96,
    "start_time": "2022-08-04T16:24:33.332Z"
   },
   {
    "duration": 932,
    "start_time": "2022-08-04T16:25:42.124Z"
   },
   {
    "duration": 222,
    "start_time": "2022-08-04T16:27:23.824Z"
   },
   {
    "duration": 279,
    "start_time": "2022-08-04T16:27:40.250Z"
   },
   {
    "duration": 822,
    "start_time": "2022-08-04T16:33:11.629Z"
   },
   {
    "duration": 480,
    "start_time": "2022-08-04T16:33:12.453Z"
   },
   {
    "duration": 447,
    "start_time": "2022-08-04T16:33:12.935Z"
   },
   {
    "duration": 193,
    "start_time": "2022-08-04T16:33:13.384Z"
   },
   {
    "duration": 0,
    "start_time": "2022-08-04T16:33:13.579Z"
   },
   {
    "duration": 0,
    "start_time": "2022-08-04T16:33:13.581Z"
   },
   {
    "duration": 0,
    "start_time": "2022-08-04T16:33:13.582Z"
   },
   {
    "duration": 0,
    "start_time": "2022-08-04T16:33:13.585Z"
   },
   {
    "duration": 69,
    "start_time": "2022-08-04T16:33:59.382Z"
   },
   {
    "duration": 211,
    "start_time": "2022-08-04T16:34:18.083Z"
   },
   {
    "duration": 1050,
    "start_time": "2022-08-04T16:35:10.225Z"
   },
   {
    "duration": 274,
    "start_time": "2022-08-04T16:35:50.773Z"
   },
   {
    "duration": 856,
    "start_time": "2022-08-04T16:36:20.229Z"
   },
   {
    "duration": 422,
    "start_time": "2022-08-04T16:36:21.087Z"
   },
   {
    "duration": 515,
    "start_time": "2022-08-04T16:36:21.510Z"
   },
   {
    "duration": 378,
    "start_time": "2022-08-04T16:36:22.027Z"
   },
   {
    "duration": 354,
    "start_time": "2022-08-04T16:36:22.411Z"
   },
   {
    "duration": 34,
    "start_time": "2022-08-04T16:36:22.766Z"
   },
   {
    "duration": 43,
    "start_time": "2022-08-04T16:36:22.802Z"
   },
   {
    "duration": 37,
    "start_time": "2022-08-04T16:36:22.847Z"
   },
   {
    "duration": 95,
    "start_time": "2022-08-04T16:36:22.886Z"
   },
   {
    "duration": 58,
    "start_time": "2022-08-04T16:43:17.052Z"
   },
   {
    "duration": 3,
    "start_time": "2022-08-04T16:43:36.942Z"
   },
   {
    "duration": 400,
    "start_time": "2022-08-04T16:43:36.948Z"
   },
   {
    "duration": 410,
    "start_time": "2022-08-04T16:43:37.351Z"
   },
   {
    "duration": 349,
    "start_time": "2022-08-04T16:43:37.763Z"
   },
   {
    "duration": 299,
    "start_time": "2022-08-04T16:43:38.125Z"
   },
   {
    "duration": 24,
    "start_time": "2022-08-04T16:43:38.426Z"
   },
   {
    "duration": 16,
    "start_time": "2022-08-04T16:43:38.452Z"
   },
   {
    "duration": 20,
    "start_time": "2022-08-04T16:43:38.470Z"
   },
   {
    "duration": 64,
    "start_time": "2022-08-04T16:43:38.511Z"
   },
   {
    "duration": 815,
    "start_time": "2022-08-04T16:43:58.085Z"
   },
   {
    "duration": 418,
    "start_time": "2022-08-04T16:43:58.902Z"
   },
   {
    "duration": 457,
    "start_time": "2022-08-04T16:43:59.321Z"
   },
   {
    "duration": 377,
    "start_time": "2022-08-04T16:43:59.780Z"
   },
   {
    "duration": 284,
    "start_time": "2022-08-04T16:44:00.159Z"
   },
   {
    "duration": 26,
    "start_time": "2022-08-04T16:44:00.445Z"
   },
   {
    "duration": 19,
    "start_time": "2022-08-04T16:44:00.472Z"
   },
   {
    "duration": 28,
    "start_time": "2022-08-04T16:44:00.513Z"
   },
   {
    "duration": 113,
    "start_time": "2022-08-04T16:44:00.543Z"
   },
   {
    "duration": 3,
    "start_time": "2022-08-04T16:44:29.266Z"
   },
   {
    "duration": 435,
    "start_time": "2022-08-04T16:44:29.271Z"
   },
   {
    "duration": 463,
    "start_time": "2022-08-04T16:44:29.708Z"
   },
   {
    "duration": 373,
    "start_time": "2022-08-04T16:44:30.174Z"
   },
   {
    "duration": 304,
    "start_time": "2022-08-04T16:44:30.549Z"
   },
   {
    "duration": 25,
    "start_time": "2022-08-04T16:44:30.854Z"
   },
   {
    "duration": 45,
    "start_time": "2022-08-04T16:44:30.882Z"
   },
   {
    "duration": 22,
    "start_time": "2022-08-04T16:44:30.929Z"
   },
   {
    "duration": 77,
    "start_time": "2022-08-04T16:44:30.954Z"
   },
   {
    "duration": 82,
    "start_time": "2022-08-04T16:47:29.229Z"
   },
   {
    "duration": 125,
    "start_time": "2022-08-04T16:51:02.153Z"
   },
   {
    "duration": 82,
    "start_time": "2022-08-04T16:51:13.827Z"
   },
   {
    "duration": 101,
    "start_time": "2022-08-04T16:52:30.128Z"
   },
   {
    "duration": 106,
    "start_time": "2022-08-04T16:54:01.922Z"
   },
   {
    "duration": 101,
    "start_time": "2022-08-04T16:54:30.758Z"
   },
   {
    "duration": 94,
    "start_time": "2022-08-04T16:57:14.930Z"
   },
   {
    "duration": 92,
    "start_time": "2022-08-04T16:58:42.033Z"
   },
   {
    "duration": 93,
    "start_time": "2022-08-04T16:59:02.835Z"
   },
   {
    "duration": 104,
    "start_time": "2022-08-04T16:59:38.524Z"
   },
   {
    "duration": 80,
    "start_time": "2022-08-04T17:04:09.777Z"
   },
   {
    "duration": 77,
    "start_time": "2022-08-04T17:06:08.572Z"
   },
   {
    "duration": 79,
    "start_time": "2022-08-04T17:07:07.549Z"
   },
   {
    "duration": 72,
    "start_time": "2022-08-04T17:18:48.412Z"
   },
   {
    "duration": 69,
    "start_time": "2022-08-04T17:20:46.282Z"
   },
   {
    "duration": 90,
    "start_time": "2022-08-04T17:21:40.042Z"
   },
   {
    "duration": 87,
    "start_time": "2022-08-04T17:23:00.642Z"
   },
   {
    "duration": 102,
    "start_time": "2022-08-04T17:24:38.328Z"
   },
   {
    "duration": 104,
    "start_time": "2022-08-04T17:25:02.232Z"
   },
   {
    "duration": 92,
    "start_time": "2022-08-04T17:25:27.109Z"
   },
   {
    "duration": 98,
    "start_time": "2022-08-04T17:28:33.572Z"
   },
   {
    "duration": 124,
    "start_time": "2022-08-04T17:28:57.432Z"
   },
   {
    "duration": 106,
    "start_time": "2022-08-04T17:30:33.462Z"
   },
   {
    "duration": 99,
    "start_time": "2022-08-04T17:33:52.925Z"
   },
   {
    "duration": 85,
    "start_time": "2022-08-04T17:34:43.223Z"
   },
   {
    "duration": 69,
    "start_time": "2022-08-04T17:35:47.734Z"
   },
   {
    "duration": 90,
    "start_time": "2022-08-04T17:36:25.337Z"
   },
   {
    "duration": 70,
    "start_time": "2022-08-04T17:36:55.326Z"
   },
   {
    "duration": 71,
    "start_time": "2022-08-04T17:38:33.626Z"
   },
   {
    "duration": 118,
    "start_time": "2022-08-04T17:39:02.678Z"
   },
   {
    "duration": 93,
    "start_time": "2022-08-04T17:39:40.727Z"
   },
   {
    "duration": 793,
    "start_time": "2022-08-06T07:09:02.825Z"
   },
   {
    "duration": 926,
    "start_time": "2022-08-06T07:09:03.620Z"
   },
   {
    "duration": 457,
    "start_time": "2022-08-06T07:09:04.548Z"
   },
   {
    "duration": 367,
    "start_time": "2022-08-06T07:09:05.007Z"
   },
   {
    "duration": 322,
    "start_time": "2022-08-06T07:09:05.376Z"
   },
   {
    "duration": 257,
    "start_time": "2022-08-06T07:09:19.068Z"
   },
   {
    "duration": 241,
    "start_time": "2022-08-06T07:09:44.502Z"
   },
   {
    "duration": 19,
    "start_time": "2022-08-06T07:11:07.427Z"
   },
   {
    "duration": 13,
    "start_time": "2022-08-06T07:12:01.317Z"
   },
   {
    "duration": 17,
    "start_time": "2022-08-06T07:12:15.216Z"
   },
   {
    "duration": 4,
    "start_time": "2022-08-06T07:14:02.394Z"
   },
   {
    "duration": 82,
    "start_time": "2022-08-06T07:14:09.416Z"
   },
   {
    "duration": 71,
    "start_time": "2022-08-06T07:14:17.205Z"
   },
   {
    "duration": 781,
    "start_time": "2022-08-06T07:14:36.734Z"
   },
   {
    "duration": 420,
    "start_time": "2022-08-06T07:14:37.517Z"
   },
   {
    "duration": 454,
    "start_time": "2022-08-06T07:14:37.938Z"
   },
   {
    "duration": 362,
    "start_time": "2022-08-06T07:14:38.394Z"
   },
   {
    "duration": 250,
    "start_time": "2022-08-06T07:14:38.758Z"
   },
   {
    "duration": 24,
    "start_time": "2022-08-06T07:14:39.010Z"
   },
   {
    "duration": 17,
    "start_time": "2022-08-06T07:14:39.036Z"
   },
   {
    "duration": 47,
    "start_time": "2022-08-06T07:14:39.054Z"
   },
   {
    "duration": 150,
    "start_time": "2022-08-06T07:15:15.166Z"
   },
   {
    "duration": 73,
    "start_time": "2022-08-06T07:16:15.109Z"
   },
   {
    "duration": 4,
    "start_time": "2022-08-06T07:18:10.361Z"
   },
   {
    "duration": 1193,
    "start_time": "2022-08-06T07:18:13.353Z"
   },
   {
    "duration": 756,
    "start_time": "2022-08-06T07:18:51.290Z"
   },
   {
    "duration": 829,
    "start_time": "2022-08-06T07:19:01.303Z"
   },
   {
    "duration": 734,
    "start_time": "2022-08-06T07:19:08.727Z"
   },
   {
    "duration": 761,
    "start_time": "2022-08-06T07:20:00.469Z"
   },
   {
    "duration": 66,
    "start_time": "2022-08-06T07:40:07.029Z"
   },
   {
    "duration": 6,
    "start_time": "2022-08-06T07:41:04.786Z"
   },
   {
    "duration": 29,
    "start_time": "2022-08-06T07:41:09.144Z"
   },
   {
    "duration": 5,
    "start_time": "2022-08-06T07:41:57.335Z"
   },
   {
    "duration": 18,
    "start_time": "2022-08-06T07:42:07.623Z"
   },
   {
    "duration": 6,
    "start_time": "2022-08-06T07:42:18.211Z"
   },
   {
    "duration": 20,
    "start_time": "2022-08-06T07:42:20.750Z"
   },
   {
    "duration": 5,
    "start_time": "2022-08-06T07:42:42.408Z"
   },
   {
    "duration": 6,
    "start_time": "2022-08-06T07:42:45.089Z"
   },
   {
    "duration": 461,
    "start_time": "2022-08-06T07:42:47.405Z"
   },
   {
    "duration": 10,
    "start_time": "2022-08-06T07:43:26.343Z"
   },
   {
    "duration": 31,
    "start_time": "2022-08-06T07:43:28.769Z"
   },
   {
    "duration": 5,
    "start_time": "2022-08-06T07:44:35.667Z"
   },
   {
    "duration": 18,
    "start_time": "2022-08-06T07:44:41.685Z"
   },
   {
    "duration": 6,
    "start_time": "2022-08-06T07:45:22.916Z"
   },
   {
    "duration": 374,
    "start_time": "2022-08-06T07:45:25.620Z"
   },
   {
    "duration": 5,
    "start_time": "2022-08-06T07:53:25.380Z"
   },
   {
    "duration": 33,
    "start_time": "2022-08-06T07:53:28.021Z"
   },
   {
    "duration": 3,
    "start_time": "2022-08-06T07:53:37.519Z"
   },
   {
    "duration": 6,
    "start_time": "2022-08-06T07:53:52.180Z"
   },
   {
    "duration": 31,
    "start_time": "2022-08-06T07:53:54.630Z"
   },
   {
    "duration": 57,
    "start_time": "2022-08-06T07:54:23.926Z"
   },
   {
    "duration": 6,
    "start_time": "2022-08-06T07:54:36.616Z"
   },
   {
    "duration": 29,
    "start_time": "2022-08-06T07:54:39.241Z"
   },
   {
    "duration": 7,
    "start_time": "2022-08-06T07:55:43.322Z"
   },
   {
    "duration": 40,
    "start_time": "2022-08-06T07:55:46.229Z"
   },
   {
    "duration": 3,
    "start_time": "2022-08-06T07:56:09.405Z"
   },
   {
    "duration": 215,
    "start_time": "2022-08-06T07:56:16.533Z"
   },
   {
    "duration": 6,
    "start_time": "2022-08-06T07:56:51.216Z"
   },
   {
    "duration": 187,
    "start_time": "2022-08-06T07:56:53.090Z"
   },
   {
    "duration": 7,
    "start_time": "2022-08-06T07:57:09.177Z"
   },
   {
    "duration": 207,
    "start_time": "2022-08-06T07:57:11.064Z"
   },
   {
    "duration": 6,
    "start_time": "2022-08-06T07:59:13.009Z"
   },
   {
    "duration": 6,
    "start_time": "2022-08-06T07:59:22.412Z"
   },
   {
    "duration": 199,
    "start_time": "2022-08-06T07:59:24.718Z"
   },
   {
    "duration": 5,
    "start_time": "2022-08-06T08:01:51.908Z"
   },
   {
    "duration": 203,
    "start_time": "2022-08-06T08:01:55.243Z"
   },
   {
    "duration": 464,
    "start_time": "2022-08-06T08:03:43.333Z"
   },
   {
    "duration": 477,
    "start_time": "2022-08-06T08:05:03.185Z"
   },
   {
    "duration": 9,
    "start_time": "2022-08-06T08:05:35.325Z"
   },
   {
    "duration": 489,
    "start_time": "2022-08-06T08:05:49.766Z"
   },
   {
    "duration": 7,
    "start_time": "2022-08-06T08:06:06.321Z"
   },
   {
    "duration": 894,
    "start_time": "2022-08-06T08:06:08.697Z"
   },
   {
    "duration": 820,
    "start_time": "2022-08-06T08:06:21.515Z"
   },
   {
    "duration": 56,
    "start_time": "2022-08-06T08:09:50.755Z"
   },
   {
    "duration": 43,
    "start_time": "2022-08-06T08:10:38.611Z"
   },
   {
    "duration": 8,
    "start_time": "2022-08-06T08:10:57.945Z"
   },
   {
    "duration": 9,
    "start_time": "2022-08-06T08:11:27.653Z"
   },
   {
    "duration": 741,
    "start_time": "2022-08-06T08:11:40.045Z"
   },
   {
    "duration": 8,
    "start_time": "2022-08-06T08:18:44.414Z"
   },
   {
    "duration": 944,
    "start_time": "2022-08-06T08:18:47.271Z"
   },
   {
    "duration": 5,
    "start_time": "2022-08-06T08:19:00.570Z"
   },
   {
    "duration": 826,
    "start_time": "2022-08-06T08:19:02.753Z"
   },
   {
    "duration": 710,
    "start_time": "2022-08-06T08:35:51.846Z"
   },
   {
    "duration": 889,
    "start_time": "2022-08-06T08:36:16.949Z"
   },
   {
    "duration": 9,
    "start_time": "2022-08-06T08:37:38.457Z"
   },
   {
    "duration": 5,
    "start_time": "2022-08-06T08:38:40.615Z"
   },
   {
    "duration": 9,
    "start_time": "2022-08-06T08:40:38.038Z"
   },
   {
    "duration": 12,
    "start_time": "2022-08-06T08:47:11.012Z"
   },
   {
    "duration": 14,
    "start_time": "2022-08-06T08:47:43.820Z"
   },
   {
    "duration": 10,
    "start_time": "2022-08-06T08:48:06.447Z"
   },
   {
    "duration": 10,
    "start_time": "2022-08-06T08:48:25.419Z"
   },
   {
    "duration": 177,
    "start_time": "2022-08-06T08:49:50.957Z"
   },
   {
    "duration": 158,
    "start_time": "2022-08-06T08:50:19.953Z"
   },
   {
    "duration": 162,
    "start_time": "2022-08-06T08:51:32.267Z"
   },
   {
    "duration": 252,
    "start_time": "2022-08-06T08:52:14.075Z"
   },
   {
    "duration": 403,
    "start_time": "2022-08-06T08:52:52.318Z"
   },
   {
    "duration": 268,
    "start_time": "2022-08-06T08:53:49.447Z"
   },
   {
    "duration": 293,
    "start_time": "2022-08-06T08:54:14.914Z"
   },
   {
    "duration": 258,
    "start_time": "2022-08-06T08:55:24.572Z"
   },
   {
    "duration": 272,
    "start_time": "2022-08-06T08:55:34.467Z"
   },
   {
    "duration": 425,
    "start_time": "2022-08-06T08:56:15.648Z"
   },
   {
    "duration": 485,
    "start_time": "2022-08-06T08:56:22.216Z"
   },
   {
    "duration": 309,
    "start_time": "2022-08-06T08:56:33.941Z"
   },
   {
    "duration": 324,
    "start_time": "2022-08-06T08:56:40.188Z"
   },
   {
    "duration": 19,
    "start_time": "2022-08-06T09:00:31.168Z"
   },
   {
    "duration": 18,
    "start_time": "2022-08-06T09:00:44.147Z"
   },
   {
    "duration": 16,
    "start_time": "2022-08-06T09:01:12.140Z"
   },
   {
    "duration": 328,
    "start_time": "2022-08-06T09:01:45.914Z"
   },
   {
    "duration": 300,
    "start_time": "2022-08-06T09:01:59.601Z"
   },
   {
    "duration": 472,
    "start_time": "2022-08-06T09:02:05.141Z"
   },
   {
    "duration": 127,
    "start_time": "2022-08-06T09:08:44.099Z"
   },
   {
    "duration": 87,
    "start_time": "2022-08-06T09:09:57.392Z"
   },
   {
    "duration": 42,
    "start_time": "2022-08-06T09:15:18.085Z"
   },
   {
    "duration": 66,
    "start_time": "2022-08-06T09:15:26.406Z"
   },
   {
    "duration": 9,
    "start_time": "2022-08-06T09:16:12.154Z"
   },
   {
    "duration": 22,
    "start_time": "2022-08-06T09:16:33.413Z"
   },
   {
    "duration": 291,
    "start_time": "2022-08-06T09:17:01.122Z"
   },
   {
    "duration": 694,
    "start_time": "2022-08-06T09:17:20.489Z"
   },
   {
    "duration": 852,
    "start_time": "2022-08-06T09:17:55.328Z"
   },
   {
    "duration": 658,
    "start_time": "2022-08-06T09:18:13.660Z"
   },
   {
    "duration": 781,
    "start_time": "2022-08-06T09:18:33.870Z"
   },
   {
    "duration": 1236,
    "start_time": "2022-08-06T09:19:11.547Z"
   },
   {
    "duration": 23,
    "start_time": "2022-08-06T09:19:19.147Z"
   },
   {
    "duration": 22,
    "start_time": "2022-08-06T09:19:36.522Z"
   },
   {
    "duration": 16,
    "start_time": "2022-08-06T09:19:39.417Z"
   },
   {
    "duration": 21,
    "start_time": "2022-08-06T09:20:02.087Z"
   },
   {
    "duration": 18,
    "start_time": "2022-08-06T09:20:16.852Z"
   },
   {
    "duration": 11,
    "start_time": "2022-08-06T09:20:40.821Z"
   },
   {
    "duration": 18,
    "start_time": "2022-08-06T09:20:45.360Z"
   },
   {
    "duration": 15,
    "start_time": "2022-08-06T09:21:02.744Z"
   },
   {
    "duration": 15,
    "start_time": "2022-08-06T09:21:27.130Z"
   },
   {
    "duration": 25,
    "start_time": "2022-08-06T09:21:33.681Z"
   },
   {
    "duration": 112,
    "start_time": "2022-08-06T09:21:43.203Z"
   },
   {
    "duration": 145,
    "start_time": "2022-08-06T09:21:55.229Z"
   },
   {
    "duration": 32,
    "start_time": "2022-08-06T09:23:31.371Z"
   },
   {
    "duration": 329,
    "start_time": "2022-08-06T09:24:25.620Z"
   },
   {
    "duration": 20,
    "start_time": "2022-08-06T09:24:34.919Z"
   },
   {
    "duration": 155,
    "start_time": "2022-08-06T09:24:43.581Z"
   },
   {
    "duration": 161,
    "start_time": "2022-08-06T09:24:52.539Z"
   },
   {
    "duration": 158,
    "start_time": "2022-08-06T09:25:19.498Z"
   },
   {
    "duration": 157,
    "start_time": "2022-08-06T09:25:34.178Z"
   },
   {
    "duration": 263,
    "start_time": "2022-08-06T09:27:42.878Z"
   },
   {
    "duration": 258,
    "start_time": "2022-08-06T09:27:54.910Z"
   },
   {
    "duration": 148,
    "start_time": "2022-08-06T09:28:53.112Z"
   },
   {
    "duration": 149,
    "start_time": "2022-08-06T09:28:58.313Z"
   },
   {
    "duration": 214,
    "start_time": "2022-08-06T09:32:16.478Z"
   },
   {
    "duration": 155,
    "start_time": "2022-08-06T09:32:54.424Z"
   },
   {
    "duration": 302,
    "start_time": "2022-08-06T09:33:27.580Z"
   },
   {
    "duration": 290,
    "start_time": "2022-08-06T09:35:51.283Z"
   },
   {
    "duration": 417,
    "start_time": "2022-08-06T09:36:29.026Z"
   },
   {
    "duration": 666,
    "start_time": "2022-08-06T09:37:17.952Z"
   },
   {
    "duration": 1009,
    "start_time": "2022-08-06T09:41:29.683Z"
   },
   {
    "duration": 472,
    "start_time": "2022-08-06T09:41:30.694Z"
   },
   {
    "duration": 451,
    "start_time": "2022-08-06T09:41:31.168Z"
   },
   {
    "duration": 359,
    "start_time": "2022-08-06T09:41:31.621Z"
   },
   {
    "duration": 275,
    "start_time": "2022-08-06T09:41:31.981Z"
   },
   {
    "duration": 52,
    "start_time": "2022-08-06T09:41:32.258Z"
   },
   {
    "duration": 18,
    "start_time": "2022-08-06T09:41:32.311Z"
   },
   {
    "duration": 22,
    "start_time": "2022-08-06T09:41:32.331Z"
   },
   {
    "duration": 96,
    "start_time": "2022-08-06T09:41:32.354Z"
   },
   {
    "duration": 5,
    "start_time": "2022-08-06T09:41:32.453Z"
   },
   {
    "duration": 777,
    "start_time": "2022-08-06T09:41:32.460Z"
   },
   {
    "duration": 9,
    "start_time": "2022-08-06T09:41:33.239Z"
   },
   {
    "duration": 11,
    "start_time": "2022-08-06T09:41:33.250Z"
   },
   {
    "duration": 302,
    "start_time": "2022-08-06T09:41:33.262Z"
   },
   {
    "duration": 535,
    "start_time": "2022-08-06T09:41:33.566Z"
   },
   {
    "duration": 12,
    "start_time": "2022-08-06T09:41:34.103Z"
   },
   {
    "duration": 1381,
    "start_time": "2022-08-07T01:51:56.884Z"
   },
   {
    "duration": 393,
    "start_time": "2022-08-07T01:51:58.267Z"
   },
   {
    "duration": 482,
    "start_time": "2022-08-07T01:51:58.661Z"
   },
   {
    "duration": 360,
    "start_time": "2022-08-07T01:51:59.146Z"
   },
   {
    "duration": 265,
    "start_time": "2022-08-07T01:51:59.508Z"
   },
   {
    "duration": 48,
    "start_time": "2022-08-07T01:51:59.774Z"
   },
   {
    "duration": 17,
    "start_time": "2022-08-07T01:51:59.823Z"
   },
   {
    "duration": 24,
    "start_time": "2022-08-07T01:51:59.842Z"
   },
   {
    "duration": 101,
    "start_time": "2022-08-07T01:51:59.868Z"
   },
   {
    "duration": 6,
    "start_time": "2022-08-07T01:51:59.971Z"
   },
   {
    "duration": 1179,
    "start_time": "2022-08-07T01:51:59.978Z"
   },
   {
    "duration": 10,
    "start_time": "2022-08-07T01:52:01.158Z"
   },
   {
    "duration": 29,
    "start_time": "2022-08-07T01:52:01.169Z"
   },
   {
    "duration": 371,
    "start_time": "2022-08-07T01:52:01.200Z"
   },
   {
    "duration": 775,
    "start_time": "2022-08-07T01:52:01.573Z"
   },
   {
    "duration": 12,
    "start_time": "2022-08-07T01:52:02.349Z"
   },
   {
    "duration": 1393,
    "start_time": "2022-08-07T01:58:08.572Z"
   },
   {
    "duration": 406,
    "start_time": "2022-08-07T01:58:09.967Z"
   },
   {
    "duration": 459,
    "start_time": "2022-08-07T01:58:10.374Z"
   },
   {
    "duration": 354,
    "start_time": "2022-08-07T01:58:10.835Z"
   },
   {
    "duration": 254,
    "start_time": "2022-08-07T01:58:11.191Z"
   },
   {
    "duration": 24,
    "start_time": "2022-08-07T01:58:11.446Z"
   },
   {
    "duration": 37,
    "start_time": "2022-08-07T01:58:11.472Z"
   },
   {
    "duration": 20,
    "start_time": "2022-08-07T01:58:11.511Z"
   },
   {
    "duration": 90,
    "start_time": "2022-08-07T01:58:11.532Z"
   },
   {
    "duration": 4,
    "start_time": "2022-08-07T01:58:11.623Z"
   },
   {
    "duration": 6,
    "start_time": "2022-08-07T01:58:11.628Z"
   },
   {
    "duration": 1222,
    "start_time": "2022-08-07T01:58:11.636Z"
   },
   {
    "duration": 9,
    "start_time": "2022-08-07T01:58:12.860Z"
   },
   {
    "duration": 30,
    "start_time": "2022-08-07T01:58:12.872Z"
   },
   {
    "duration": 381,
    "start_time": "2022-08-07T01:58:12.904Z"
   },
   {
    "duration": 760,
    "start_time": "2022-08-07T01:58:13.286Z"
   },
   {
    "duration": 11,
    "start_time": "2022-08-07T01:58:14.048Z"
   },
   {
    "duration": 111,
    "start_time": "2022-08-07T02:07:43.282Z"
   },
   {
    "duration": 318,
    "start_time": "2022-08-07T02:09:00.184Z"
   }
  ],
  "kernelspec": {
   "display_name": "Python 3 (ipykernel)",
   "language": "python",
   "name": "python3"
  },
  "language_info": {
   "codemirror_mode": {
    "name": "ipython",
    "version": 3
   },
   "file_extension": ".py",
   "mimetype": "text/x-python",
   "name": "python",
   "nbconvert_exporter": "python",
   "pygments_lexer": "ipython3",
   "version": "3.9.7"
  },
  "toc": {
   "base_numbering": 1,
   "nav_menu": {},
   "number_sections": true,
   "sideBar": true,
   "skip_h1_title": true,
   "title_cell": "Table of Contents",
   "title_sidebar": "Contents",
   "toc_cell": false,
   "toc_position": {
    "height": "calc(100% - 180px)",
    "left": "10px",
    "top": "150px",
    "width": "217.682px"
   },
   "toc_section_display": true,
   "toc_window_display": true
  }
 },
 "nbformat": 4,
 "nbformat_minor": 5
}
